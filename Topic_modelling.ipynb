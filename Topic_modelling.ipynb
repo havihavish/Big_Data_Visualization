{
  "nbformat": 4,
  "nbformat_minor": 0,
  "metadata": {
    "colab": {
      "name": "Topic_modelling",
      "provenance": [],
      "collapsed_sections": [],
      "authorship_tag": "ABX9TyNEM4Ic6llxDf4S08yvslBe",
      "include_colab_link": true
    },
    "kernelspec": {
      "name": "python3",
      "display_name": "Python 3"
    }
  },
  "cells": [
    {
      "cell_type": "markdown",
      "metadata": {
        "id": "view-in-github",
        "colab_type": "text"
      },
      "source": [
        "<a href=\"https://colab.research.google.com/github/havihavish/Big_Data_Visualization/blob/master/Topic_modelling.ipynb\" target=\"_parent\"><img src=\"https://colab.research.google.com/assets/colab-badge.svg\" alt=\"Open In Colab\"/></a>"
      ]
    },
    {
      "cell_type": "code",
      "metadata": {
        "id": "gUZrtp6KB50B",
        "colab_type": "code",
        "colab": {}
      },
      "source": [
        "import pandas as pd"
      ],
      "execution_count": 0,
      "outputs": []
    },
    {
      "cell_type": "code",
      "metadata": {
        "id": "a1Nm7Sz2CQXo",
        "colab_type": "code",
        "colab": {}
      },
      "source": [
        "df3 = pd.read_csv('Final_Table_3.csv')"
      ],
      "execution_count": 0,
      "outputs": []
    },
    {
      "cell_type": "code",
      "metadata": {
        "id": "zEXiyyZeFcXt",
        "colab_type": "code",
        "outputId": "6b9926df-b0b4-4b09-c317-5014c0b87d2a",
        "colab": {
          "base_uri": "https://localhost:8080/",
          "height": 68
        }
      },
      "source": [
        "df3.columns"
      ],
      "execution_count": 0,
      "outputs": [
        {
          "output_type": "execute_result",
          "data": {
            "text/plain": [
              "Index(['Unnamed: 0', 'article_id', 'paperId', 'doi', 'title', 'venue', 'year',\n",
              "       'intent', 'isInfluential'],\n",
              "      dtype='object')"
            ]
          },
          "metadata": {
            "tags": []
          },
          "execution_count": 9
        }
      ]
    },
    {
      "cell_type": "code",
      "metadata": {
        "id": "v0IMaZcNCYwv",
        "colab_type": "code",
        "colab": {}
      },
      "source": [
        "df3_title = df3['title']"
      ],
      "execution_count": 0,
      "outputs": []
    },
    {
      "cell_type": "code",
      "metadata": {
        "id": "wgq7N1eyCejt",
        "colab_type": "code",
        "outputId": "e55f0035-66f1-4273-c9d7-19e32ce67d36",
        "colab": {
          "base_uri": "https://localhost:8080/",
          "height": 34
        }
      },
      "source": [
        "df3_title.shape"
      ],
      "execution_count": 0,
      "outputs": [
        {
          "output_type": "execute_result",
          "data": {
            "text/plain": [
              "(173453,)"
            ]
          },
          "metadata": {
            "tags": []
          },
          "execution_count": 8
        }
      ]
    },
    {
      "cell_type": "code",
      "metadata": {
        "id": "91cJ0qekCrpt",
        "colab_type": "code",
        "outputId": "19548d7b-b6e4-40d5-e754-653e6691de58",
        "colab": {
          "base_uri": "https://localhost:8080/",
          "height": 85
        }
      },
      "source": [
        "from textblob import TextBlob\n",
        "import nltk\n",
        "nltk.download('brown')\n",
        "nltk.download('punkt')\n",
        "\n",
        "# sentence = open('dataset.csv', \"r\")\n",
        "# blob = TextBlob(sentence.read())\n",
        "\n",
        "df3['topics'] = df3['title'].apply(lambda x : TextBlob(x).noun_phrases)\n",
        "\n",
        "# noun_phrase = blob.noun_phrases"
      ],
      "execution_count": 0,
      "outputs": [
        {
          "output_type": "stream",
          "text": [
            "[nltk_data] Downloading package brown to /root/nltk_data...\n",
            "[nltk_data]   Unzipping corpora/brown.zip.\n",
            "[nltk_data] Downloading package punkt to /root/nltk_data...\n",
            "[nltk_data]   Unzipping tokenizers/punkt.zip.\n"
          ],
          "name": "stdout"
        }
      ]
    },
    {
      "cell_type": "code",
      "metadata": {
        "id": "lr9h-r7MVcie",
        "colab_type": "code",
        "outputId": "d85ade07-6f9d-4480-9d3f-d62d285fba5b",
        "colab": {
          "base_uri": "https://localhost:8080/",
          "height": 51
        }
      },
      "source": [
        "nltk.download('stopwords')\n",
        "\n",
        "from nltk.tokenize import RegexpTokenizer\n",
        "from nltk.corpus import stopwords\n",
        "from nltk.stem.porter import PorterStemmer\n",
        "from gensim import corpora, models\n",
        "import gensim\n",
        "\n",
        "tokenizer = RegexpTokenizer(r'\\w+')\n",
        "\n",
        "# create English stop words list\n",
        "en_stop = stopwords.words('english')\n",
        "\n",
        "# Create p_stemmer of class PorterStemmer\n",
        "p_stemmer = PorterStemmer()"
      ],
      "execution_count": 0,
      "outputs": [
        {
          "output_type": "stream",
          "text": [
            "[nltk_data] Downloading package stopwords to /root/nltk_data...\n",
            "[nltk_data]   Package stopwords is already up-to-date!\n"
          ],
          "name": "stdout"
        }
      ]
    },
    {
      "cell_type": "markdown",
      "metadata": {
        "id": "B-MD8A3FILIr",
        "colab_type": "text"
      },
      "source": [
        "## Adding all five year topics to one list"
      ]
    },
    {
      "cell_type": "code",
      "metadata": {
        "id": "Cwrp91vgIPPp",
        "colab_type": "code",
        "outputId": "9933ffd4-4ae9-4502-d9b5-5a0ed0b74bc1",
        "colab": {
          "base_uri": "https://localhost:8080/",
          "height": 357
        }
      },
      "source": [
        "doc_set = []\n",
        "for i in range(1971,2017,5):\n",
        "  print()\n",
        "  temp_df = df3.loc[(df3['year'] >=i) & (df3['year']<i+5),'title']\n",
        "  print(i,temp_df.shape)\n",
        "  temp_list = temp_df.tolist()\n",
        "  doc = ''.join(temp_list)\n",
        "  doc_set.append(doc)\n",
        "\n"
      ],
      "execution_count": 0,
      "outputs": [
        {
          "output_type": "stream",
          "text": [
            "\n",
            "1971 (19,)\n",
            "\n",
            "1976 (23,)\n",
            "\n",
            "1981 (34,)\n",
            "\n",
            "1986 (315,)\n",
            "\n",
            "1991 (1477,)\n",
            "\n",
            "1996 (5560,)\n",
            "\n",
            "2001 (16459,)\n",
            "\n",
            "2006 (39528,)\n",
            "\n",
            "2011 (57424,)\n",
            "\n",
            "2016 (51769,)\n"
          ],
          "name": "stdout"
        }
      ]
    },
    {
      "cell_type": "code",
      "metadata": {
        "id": "oea7Kjv9ZPjD",
        "colab_type": "code",
        "outputId": "503e817b-ba8f-4152-b51f-bb19ffafad28",
        "colab": {
          "base_uri": "https://localhost:8080/",
          "height": 187
        }
      },
      "source": [
        "for i in range(10):\n",
        "  print(len(doc_set[i]))"
      ],
      "execution_count": 0,
      "outputs": [
        {
          "output_type": "stream",
          "text": [
            "1187\n",
            "1221\n",
            "2158\n",
            "20660\n",
            "94547\n",
            "369627\n",
            "1092677\n",
            "2690417\n",
            "3998113\n",
            "3759645\n"
          ],
          "name": "stdout"
        }
      ]
    },
    {
      "cell_type": "markdown",
      "metadata": {
        "id": "X8uGUEFWH2A0",
        "colab_type": "text"
      },
      "source": [
        "Predicting the topics by Extracting keywords by using LDA model"
      ]
    },
    {
      "cell_type": "code",
      "metadata": {
        "id": "2FmgTOWeZGb2",
        "colab_type": "code",
        "outputId": "24fc5ae5-bbff-41ba-9227-202051a2ee29",
        "colab": {
          "base_uri": "https://localhost:8080/",
          "height": 527
        }
      },
      "source": [
        "lda_pred = []\n",
        "for i in doc_set:\n",
        "    print(len(i))\n",
        "    \n",
        "    # clean and tokenize document string\n",
        "    raw = i.lower()\n",
        "    tokens = tokenizer.tokenize(raw)\n",
        "\n",
        "\n",
        "    # remove stop words from tokens\n",
        "    stopped_tokens = [i for i in tokens if not i in en_stop]\n",
        "    \n",
        "    # stem tokens\n",
        "    # stemmed_tokens = [p_stemmer.stem(i) for i in stopped_tokens]\n",
        "    texts = []\n",
        "    # add tokens to list\n",
        "    texts.append(stopped_tokens)\n",
        "\n",
        "    # turn our tokenized documents into a id <-> term dictionary\n",
        "    dictionary = corpora.Dictionary(texts)\n",
        "        \n",
        "    # convert tokenized documents into a document-term matrix\n",
        "    corpus = [dictionary.doc2bow(text) for text in texts]\n",
        "\n",
        "    # generate LDA model\n",
        "    ldamodel = gensim.models.ldamodel.LdaModel(corpus, num_topics=1,id2word = dictionary, passes=20)\n",
        "    lda_pred.append(ldamodel.print_topics())\n",
        "    print(ldamodel.print_topics(num_words = 4))\n",
        "    print()"
      ],
      "execution_count": 0,
      "outputs": [
        {
          "output_type": "stream",
          "text": [
            "1187\n",
            "[(0, '0.035*\"data\" + 0.020*\"disc\" + 0.020*\"representations\" + 0.020*\"system\"')]\n",
            "\n",
            "1221\n",
            "[(0, '0.046*\"retrieval\" + 0.036*\"italic\" + 0.026*\"survey\" + 0.026*\"functional\"')]\n",
            "\n",
            "2158\n",
            "[(0, '0.034*\"information\" + 0.034*\"retrieval\" + 0.021*\"document\" + 0.015*\"system\"')]\n",
            "\n",
            "20660\n",
            "[(0, '0.035*\"information\" + 0.035*\"retrieval\" + 0.024*\"document\" + 0.015*\"text\"')]\n",
            "\n",
            "94547\n",
            "[(0, '0.043*\"information\" + 0.041*\"retrieval\" + 0.018*\"text\" + 0.012*\"using\"')]\n",
            "\n",
            "369627\n",
            "[(0, '0.037*\"information\" + 0.027*\"retrieval\" + 0.017*\"text\" + 0.014*\"based\"')]\n",
            "\n",
            "1092677\n",
            "[(0, '0.024*\"information\" + 0.019*\"retrieval\" + 0.019*\"based\" + 0.015*\"web\"')]\n",
            "\n",
            "2690417\n",
            "[(0, '0.021*\"information\" + 0.020*\"based\" + 0.015*\"retrieval\" + 0.013*\"search\"')]\n",
            "\n",
            "3998113\n",
            "[(0, '0.021*\"based\" + 0.017*\"search\" + 0.015*\"information\" + 0.013*\"using\"')]\n",
            "\n",
            "3759645\n",
            "[(0, '0.018*\"based\" + 0.012*\"information\" + 0.011*\"search\" + 0.011*\"using\"')]\n",
            "\n"
          ],
          "name": "stdout"
        }
      ]
    },
    {
      "cell_type": "code",
      "metadata": {
        "id": "pS_0L5O2bPQW",
        "colab_type": "code",
        "colab": {}
      },
      "source": [
        ""
      ],
      "execution_count": 0,
      "outputs": []
    }
  ]
}