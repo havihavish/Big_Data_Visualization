{
 "cells": [
  {
   "cell_type": "markdown",
   "metadata": {},
   "source": [
    "# Basic Techniques of Programming\n",
    "### Developed by : Havish Nallapareddy\n",
    "### Date : 03/19/2020"
   ]
  },
  {
   "cell_type": "code",
   "execution_count": 1,
   "metadata": {},
   "outputs": [
    {
     "name": "stdout",
     "output_type": "stream",
     "text": [
      "Enter an integer value:100\n",
      "The user has entered this value: 100\n"
     ]
    }
   ],
   "source": [
    "anIntValue=input(\"Enter an integer value:\")\n",
    "print (\"The user has entered this value:\", anIntValue)"
   ]
  },
  {
   "cell_type": "code",
   "execution_count": 2,
   "metadata": {},
   "outputs": [
    {
     "name": "stdout",
     "output_type": "stream",
     "text": [
      "Examples of using print()function \n",
      "\n"
     ]
    }
   ],
   "source": [
    "print(\"Examples of using print()function\", \"\\n\")"
   ]
  },
  {
   "cell_type": "code",
   "execution_count": 3,
   "metadata": {},
   "outputs": [
    {
     "name": "stdout",
     "output_type": "stream",
     "text": [
      "This is the value of x: 15 \n",
      "\n"
     ]
    }
   ],
   "source": [
    "x = 15\n",
    "print(\"This is the value of x:\",x, \"\\n\")"
   ]
  },
  {
   "cell_type": "code",
   "execution_count": 4,
   "metadata": {},
   "outputs": [
    {
     "name": "stdout",
     "output_type": "stream",
     "text": [
      "This is the value of x: 15 ; This is the value of y: 25 .\n",
      "\n"
     ]
    }
   ],
   "source": [
    "x = 15\n",
    "y = 25\n",
    "print(\"This is the value of x:\",x, \"; This is the value of y:\",y, \".\\n\")"
   ]
  },
  {
   "cell_type": "code",
   "execution_count": 5,
   "metadata": {},
   "outputs": [
    {
     "name": "stdout",
     "output_type": "stream",
     "text": [
      "Enter # of credits then press Enter:120\n",
      "True\n"
     ]
    }
   ],
   "source": [
    "numCredits = int(input(\"Enter # of credits then press Enter:\"))\n",
    "\n",
    "if(numCredits >= 120):\n",
    "    readyToGraduate = True;\n",
    "else:\n",
    "    readyToGraduate = False;\n",
    "\n",
    "print(readyToGraduate)"
   ]
  },
  {
   "cell_type": "code",
   "execution_count": 7,
   "metadata": {},
   "outputs": [
    {
     "name": "stdout",
     "output_type": "stream",
     "text": [
      "studentLevel: Senior ; Priority to register 1 \n",
      "\n"
     ]
    }
   ],
   "source": [
    "studentLevel= \"Senior\" # level: freshman, sophomore, junior, senior\n",
    "if(studentLevel ==\"Senior\"):\n",
    "    prioritytoRegister = 1\n",
    "elif(studentLevel ==\"Junior\"):\n",
    "    prioritytoRegister = 2\n",
    "elif(studentLevel ==\"Sophomore\"):\n",
    "    prioritytoRegister = 3\n",
    "elif(studentLevel ==\"Freshman\"):\n",
    "    prioritytoRegister = 4\n",
    "else:\n",
    "    print(\"Invalid studentLevel!!!\")\n",
    "    \n",
    "print(\"studentLevel:\", studentLevel, \"; Priority to register\",prioritytoRegister, \"\\n\") \n",
    "\n"
   ]
  },
  {
   "cell_type": "code",
   "execution_count": null,
   "metadata": {},
   "outputs": [],
   "source": []
  }
 ],
 "metadata": {
  "kernelspec": {
   "display_name": "Python 3",
   "language": "python",
   "name": "python3"
  },
  "language_info": {
   "codemirror_mode": {
    "name": "ipython",
    "version": 3
   },
   "file_extension": ".py",
   "mimetype": "text/x-python",
   "name": "python",
   "nbconvert_exporter": "python",
   "pygments_lexer": "ipython3",
   "version": "3.5.6"
  },
  "widgets": {
   "state": {},
   "version": "1.1.2"
  }
 },
 "nbformat": 4,
 "nbformat_minor": 4
}
