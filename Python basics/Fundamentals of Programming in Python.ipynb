{
 "cells": [
  {
   "cell_type": "code",
   "execution_count": 1,
   "metadata": {},
   "outputs": [
    {
     "name": "stdout",
     "output_type": "stream",
     "text": [
      "x is a variable. It is an identifier. Its value is:  3 \n",
      "\n"
     ]
    }
   ],
   "source": [
    "x = 3\n",
    "print (\"x is a variable. It is an identifier. Its value is: \",x,\"\\n\")"
   ]
  },
  {
   "cell_type": "code",
   "execution_count": 2,
   "metadata": {},
   "outputs": [
    {
     "name": "stdout",
     "output_type": "stream",
     "text": [
      "Data Type of x: <class 'int'> \n",
      "\n"
     ]
    }
   ],
   "source": [
    "x = 3\n",
    "print(\"Data Type of x:\", type(x),'\\n')"
   ]
  },
  {
   "cell_type": "code",
   "execution_count": 3,
   "metadata": {},
   "outputs": [
    {
     "name": "stdout",
     "output_type": "stream",
     "text": [
      "stdName is a variable. It is an identifier. Its value is:  John Smith \n",
      "\n"
     ]
    }
   ],
   "source": [
    "stdName= \"John Smith\"\n",
    "print (\"stdName is a variable. It is an identifier. Its value is: \",stdName,\"\\n\")"
   ]
  },
  {
   "cell_type": "code",
   "execution_count": 4,
   "metadata": {},
   "outputs": [
    {
     "name": "stdout",
     "output_type": "stream",
     "text": [
      "Data Type of stdName: <class 'str'> \n",
      "\n"
     ]
    }
   ],
   "source": [
    "stdName= \"John Smith\"\n",
    "print(\"Data Type of stdName:\", type(stdName),'\\n')"
   ]
  },
  {
   "cell_type": "code",
   "execution_count": 5,
   "metadata": {},
   "outputs": [
    {
     "name": "stdout",
     "output_type": "stream",
     "text": [
      "x is y\n"
     ]
    }
   ],
   "source": [
    "x = 5\n",
    "y = 5\n",
    "\n",
    "isTrue = \"x is y\"\n",
    "isFalse= \"x is not y\"\n",
    "\n",
    "if (x is y):\n",
    "    print(isTrue)\n",
    "else:\n",
    "    print (isFalse)"
   ]
  },
  {
   "cell_type": "code",
   "execution_count": 6,
   "metadata": {},
   "outputs": [
    {
     "name": "stdout",
     "output_type": "stream",
     "text": [
      "x is not y\n"
     ]
    }
   ],
   "source": [
    "x = 5\n",
    "y = 8\n",
    "\n",
    "isTrue = \"x is y\"\n",
    "isFalse= \"x is not y\"\n",
    "\n",
    "if (x is y):\n",
    "    print(isTrue)\n",
    "else:\n",
    "    print(isFalse)"
   ]
  },
  {
   "cell_type": "code",
   "execution_count": 7,
   "metadata": {},
   "outputs": [
    {
     "name": "stdout",
     "output_type": "stream",
     "text": [
      "x is y\n"
     ]
    }
   ],
   "source": [
    "x = 5\n",
    "y = 8\n",
    "\n",
    "isTrue = \"x is not y\"\n",
    "isFalse= \"x is y\"\n",
    "\n",
    "if (x is y):\n",
    "    print(isTrue)\n",
    "else:\n",
    "    print(isFalse)"
   ]
  },
  {
   "cell_type": "code",
   "execution_count": 8,
   "metadata": {},
   "outputs": [
    {
     "name": "stdout",
     "output_type": "stream",
     "text": [
      "H in x\n"
     ]
    }
   ],
   "source": [
    "x = 'Hello World'\n",
    "if ('H' in x):\n",
    "    print (\"H in x\")\n",
    "else:\n",
    "    print (\"H not in x\")"
   ]
  },
  {
   "cell_type": "code",
   "execution_count": 10,
   "metadata": {},
   "outputs": [
    {
     "name": "stdout",
     "output_type": "stream",
     "text": [
      "8 not in aList\n"
     ]
    }
   ],
   "source": [
    "aList = [1,2,3,4,5]\n",
    "if(8 not in aList):\n",
    "    print(\"8 not in aList\")\n",
    "else:\n",
    "    print(\"8 in aList\")\n",
    "\n"
   ]
  },
  {
   "cell_type": "code",
   "execution_count": 11,
   "metadata": {},
   "outputs": [
    {
     "name": "stdout",
     "output_type": "stream",
     "text": [
      "Enter radius: 2\n",
      "Enter units: cms\n",
      "Diameter:  4.0 cms\n",
      "Circumference:  12.56636 cms\n"
     ]
    }
   ],
   "source": [
    "pi=3.14159\n",
    "radius=float(input(\"Enter radius: \"))\n",
    "unit=input(\"Enter units: \") # unit: cms,inches,ft,m\n",
    "diameter= 2*radius\n",
    "circumference=diameter * pi\n",
    "print(\"Diameter: \",diameter,unit)\n",
    "print(\"Circumference: \",circumference,unit)"
   ]
  },
  {
   "cell_type": "code",
   "execution_count": 12,
   "metadata": {},
   "outputs": [
    {
     "data": {
      "text/plain": [
       "3"
      ]
     },
     "execution_count": 12,
     "metadata": {},
     "output_type": "execute_result"
    }
   ],
   "source": [
    "# This is a comment\n",
    "x = 3\n",
    "x"
   ]
  },
  {
   "cell_type": "code",
   "execution_count": 13,
   "metadata": {},
   "outputs": [
    {
     "name": "stdout",
     "output_type": "stream",
     "text": [
      "Hello, World!\n"
     ]
    }
   ],
   "source": [
    "# Print \"Hello World\" to console\n",
    "print (\"Hello, World!\")"
   ]
  },
  {
   "cell_type": "code",
   "execution_count": 14,
   "metadata": {},
   "outputs": [
    {
     "data": {
      "text/plain": [
       "3"
      ]
     },
     "execution_count": 14,
     "metadata": {},
     "output_type": "execute_result"
    }
   ],
   "source": [
    "# Inline Comment\n",
    "x = 3 # This is an inline comment\n",
    "x"
   ]
  },
  {
   "cell_type": "code",
   "execution_count": 15,
   "metadata": {},
   "outputs": [
    {
     "data": {
      "text/plain": [
       "3"
      ]
     },
     "execution_count": 15,
     "metadata": {},
     "output_type": "execute_result"
    }
   ],
   "source": [
    "# This is a comment of multiple lines, also known as block comment\n",
    "# Add another line of comment\n",
    "# Add another line\n",
    "# And another line\n",
    "\n",
    "x = 3\n",
    "x"
   ]
  },
  {
   "cell_type": "code",
   "execution_count": null,
   "metadata": {},
   "outputs": [],
   "source": []
  }
 ],
 "metadata": {
  "kernelspec": {
   "display_name": "Python 3",
   "language": "python",
   "name": "python3"
  },
  "language_info": {
   "codemirror_mode": {
    "name": "ipython",
    "version": 3
   },
   "file_extension": ".py",
   "mimetype": "text/x-python",
   "name": "python",
   "nbconvert_exporter": "python",
   "pygments_lexer": "ipython3",
   "version": "3.7.1"
  }
 },
 "nbformat": 4,
 "nbformat_minor": 2
}
