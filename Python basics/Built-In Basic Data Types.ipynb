{
 "cells": [
  {
   "cell_type": "markdown",
   "metadata": {},
   "source": [
    "# Built-In Basic Data Types\n",
    "### Develper : Havish Nallapareddy.\n",
    "### Created : 03/20/2020"
   ]
  },
  {
   "cell_type": "code",
   "execution_count": 3,
   "metadata": {},
   "outputs": [
    {
     "name": "stdout",
     "output_type": "stream",
     "text": [
      "Data type of x:  <class 'int'> \n",
      "\n",
      "Data type of y:  <class 'int'> \n",
      "\n"
     ]
    }
   ],
   "source": [
    "x=3\n",
    "y=x\n",
    "\n",
    "print(\"Data type of x: \",type(x),'\\n')\n",
    "print(\"Data type of y: \",type(y),'\\n')"
   ]
  },
  {
   "cell_type": "code",
   "execution_count": 4,
   "metadata": {},
   "outputs": [
    {
     "name": "stdout",
     "output_type": "stream",
     "text": [
      "Data type of x:  <class 'float'> \n",
      "\n",
      "Data type of y:  <class 'float'> \n",
      "\n"
     ]
    }
   ],
   "source": [
    "x=3.5\n",
    "y=x\n",
    "print(\"Data type of x: \",type(x),'\\n')\n",
    "print(\"Data type of y: \",type(y),'\\n')"
   ]
  },
  {
   "cell_type": "code",
   "execution_count": 5,
   "metadata": {},
   "outputs": [
    {
     "name": "stdout",
     "output_type": "stream",
     "text": [
      "aComplex is a complex number:  (5+3j) \n",
      "\n",
      "Data type of aComplex:  <class 'complex'> \n",
      "\n"
     ]
    }
   ],
   "source": [
    "x=5\n",
    "y=3\n",
    "\n",
    "aComplex= complex(5,3)\n",
    "print (\"aComplex is a complex number: \", aComplex, \"\\n\")\n",
    "print(\"Data type of aComplex: \",type(aComplex),'\\n')"
   ]
  },
  {
   "cell_type": "code",
   "execution_count": 7,
   "metadata": {},
   "outputs": [
    {
     "name": "stdout",
     "output_type": "stream",
     "text": [
      "boolVar is a boolean variable:  True \n",
      "\n",
      "Data type of boolVar:  <class 'bool'> \n",
      "\n"
     ]
    }
   ],
   "source": [
    "boolVar = True\n",
    "print(\"boolVar is a boolean variable: \",boolVar,\"\\n\")\n",
    "print(\"Data type of boolVar: \",type(boolVar),'\\n')"
   ]
  },
  {
   "cell_type": "code",
   "execution_count": 8,
   "metadata": {},
   "outputs": [
    {
     "name": "stdout",
     "output_type": "stream",
     "text": [
      "boolVar is a boolean variable:  5 \n",
      "\n",
      "Data type of boolVar:  <class 'int'> \n",
      "\n"
     ]
    }
   ],
   "source": [
    "boolVar = 5\n",
    "\n",
    "if(boolVar):\n",
    "    print(\"boolVar is a boolean variable: \",boolVar,\"\\n\")\n",
    "    print(\"Data type of boolVar: \", type(boolVar), '\\n')"
   ]
  },
  {
   "cell_type": "code",
   "execution_count": 13,
   "metadata": {},
   "outputs": [
    {
     "name": "stdout",
     "output_type": "stream",
     "text": [
      "boolVar is a boolean variable:  False \n",
      "\n",
      "Data type of boolVar:  <class 'bool'> \n",
      "\n"
     ]
    }
   ],
   "source": [
    "boolVar = False\n",
    "\n",
    "print(\"boolVar is a boolean variable: \",boolVar,\"\\n\")\n",
    "print(\"Data type of boolVar: \",type(boolVar),'\\n')"
   ]
  },
  {
   "cell_type": "code",
   "execution_count": 14,
   "metadata": {},
   "outputs": [],
   "source": [
    "boolVar = 0\n",
    "\n",
    "if(boolVar):\n",
    "    print(\"boolVar is a boolean variable: \",boolVar,\"\\n\")\n",
    "    print(\"Data type of boolVar: \", type(boolVar), '\\n')"
   ]
  },
  {
   "cell_type": "code",
   "execution_count": 15,
   "metadata": {},
   "outputs": [
    {
     "name": "stdout",
     "output_type": "stream",
     "text": [
      "aChar is a String Variable, NOT a Character variable:  a \n",
      "\n",
      "Data type of aChar:  <class 'str'> \n",
      "\n"
     ]
    }
   ],
   "source": [
    "aChar = 'a'\n",
    "print(\"aChar is a String Variable, NOT a Character variable: \", aChar, \"\\n\")\n",
    "print(\"Data type of aChar: \", type(aChar),'\\n')"
   ]
  },
  {
   "cell_type": "code",
   "execution_count": null,
   "metadata": {},
   "outputs": [],
   "source": []
  }
 ],
 "metadata": {
  "kernelspec": {
   "display_name": "Python 3",
   "language": "python",
   "name": "python3"
  },
  "language_info": {
   "codemirror_mode": {
    "name": "ipython",
    "version": 3
   },
   "file_extension": ".py",
   "mimetype": "text/x-python",
   "name": "python",
   "nbconvert_exporter": "python",
   "pygments_lexer": "ipython3",
   "version": "3.5.6"
  },
  "widgets": {
   "state": {},
   "version": "1.1.2"
  }
 },
 "nbformat": 4,
 "nbformat_minor": 4
}
