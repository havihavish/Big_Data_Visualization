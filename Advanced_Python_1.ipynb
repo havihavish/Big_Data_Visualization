{
  "nbformat": 4,
  "nbformat_minor": 0,
  "metadata": {
    "colab": {
      "name": "Advanced Python 1.ipynb",
      "provenance": [],
      "collapsed_sections": [],
      "include_colab_link": true
    },
    "kernelspec": {
      "name": "python3",
      "display_name": "Python 3"
    }
  },
  "cells": [
    {
      "cell_type": "markdown",
      "metadata": {
        "id": "view-in-github",
        "colab_type": "text"
      },
      "source": [
        "<a href=\"https://colab.research.google.com/github/havihavish/Big_Data_Visualization/blob/master/Advanced_Python_1.ipynb\" target=\"_parent\"><img src=\"https://colab.research.google.com/assets/colab-badge.svg\" alt=\"Open In Colab\"/></a>"
      ]
    },
    {
      "cell_type": "markdown",
      "metadata": {
        "id": "Ryk8D1Q4Wsrp",
        "colab_type": "text"
      },
      "source": [
        "# **Advanced python operations**"
      ]
    },
    {
      "cell_type": "markdown",
      "metadata": {
        "id": "90_NR8c5XGWc",
        "colab_type": "text"
      },
      "source": [
        "\n",
        "Write a Python program to generate 12 random numbers between 1 and 100. Sort the list of numbers in ascending order and print it out. Sort the list of numbers in descending order and print it out. Calculate the average for the group and print it out."
      ]
    },
    {
      "cell_type": "code",
      "metadata": {
        "id": "5QX6bJjGWXY9",
        "colab_type": "code",
        "outputId": "3873cc76-c20c-49e7-c053-dbf02414d4f4",
        "colab": {
          "base_uri": "https://localhost:8080/",
          "height": 85
        }
      },
      "source": [
        "import random\n",
        "list1=random.sample(range(0,100),12)\n",
        "print('The random list is',list1)\n",
        "\n",
        "list1.sort()\n",
        "print('The random list in ascending order',list1)\n",
        "\n",
        "list1.sort(reverse=True)\n",
        "print('The random list in descending order ',list1)\n",
        "\n",
        "def Average(list1): \n",
        "    return sum(list1) / len(list1) \n",
        "average = Average(list1) \n",
        "print('The averageof the list is  ',average) "
      ],
      "execution_count": 0,
      "outputs": [
        {
          "output_type": "stream",
          "text": [
            "The random list is [23, 76, 22, 43, 21, 94, 72, 73, 9, 31, 38, 2]\n",
            "The random list in ascending order [2, 9, 21, 22, 23, 31, 38, 43, 72, 73, 76, 94]\n",
            "The random list in descending order  [94, 76, 73, 72, 43, 38, 31, 23, 22, 21, 9, 2]\n",
            "The averageof the list is   42.0\n"
          ],
          "name": "stdout"
        }
      ]
    },
    {
      "cell_type": "markdown",
      "metadata": {
        "id": "1F_PZdH9Sh49",
        "colab_type": "text"
      },
      "source": [
        "# String Manipulations\n",
        "Write a program that will do the following string formatting tasks:\n",
        "\n",
        "(1) Ask the user to enter two sentences.\n",
        "\n",
        "(2) Make each sentence into a list. Each element in the list should correspond to a word in the sentence. For example, if the sentence is \"Alas! Am I alive? This is my first python program\", the program should print out ['Alas, '!', 'Am', 'I', 'alive, '?', 'This', 'is', 'my', 'first', 'python', 'program'].\n",
        "\n",
        "(3) Compare the two sentences. Print out a list of words that occur in both sentences.\n",
        "\n",
        "(4) Remove any punctuation from the sentence and print it back out. It should remove at least the following characters, but it can remove more: period(“.”), comma (“,”), semicolon (“;”), and colon (“:”)\n",
        "\n",
        "(5) Count the number of vowels in the sentences. Print out each vowel and the number of times it appears in the sentences, such as: a:2, e:1, i:0, etc"
      ]
    },
    {
      "cell_type": "code",
      "metadata": {
        "id": "SFw4axIsvYy_",
        "colab_type": "code",
        "colab": {}
      },
      "source": [
        "def splitstring(var):\n",
        "  lst = var.split(\" \")\n",
        "  siz = len(lst)\n",
        "  i = 0\n",
        "  while i < siz:\n",
        "      var = lst[i]\n",
        "      check = True\n",
        "      if ( not var[0].isnumeric() and not var[0].isalpha()):\n",
        "          lst[i] = var[0]\n",
        "          lst.insert(i+1,var[1:])\n",
        "          check = False\n",
        "          i = i+1\n",
        "          var = lst[i]\n",
        "          siz +=1\n",
        "      if(not var[-1].isnumeric() and not var[-1].isalpha()):\n",
        "          lst[i] = var[:-1]\n",
        "          lst.insert(i+1,var[-1])\n",
        "          check = False\n",
        "          i = i+2\n",
        "          siz +=1\n",
        "      if(check):\n",
        "          i = i+1\n",
        "  return lst\n",
        "\n",
        "def removepunct(var):\n",
        "  siz = len(var)\n",
        "  j =0\n",
        "  while j < siz:\n",
        "    if( not var[j][0].isnumeric() and not var[j][0].isalpha() ):\n",
        "      var.pop(j)\n",
        "      siz = siz-1\n",
        "    else:\n",
        "      j = j+1\n",
        "  return var\n",
        "\n",
        "def Check_Vow(string): \n",
        "\tvowels = 'aeiouAEIOU'\n",
        "\tcount = {}.fromkeys(vowels, 0) \n",
        "\tfor character in string: \n",
        "\t\tif character in count: \n",
        "\t\t\tcount[character] += 1\t\n",
        "\treturn count \n"
      ],
      "execution_count": 0,
      "outputs": []
    },
    {
      "cell_type": "code",
      "metadata": {
        "id": "Y0oOSlsOS0cq",
        "colab_type": "code",
        "outputId": "9df3547a-3dc9-4298-8c42-f5226ade890d",
        "colab": {
          "base_uri": "https://localhost:8080/",
          "height": 238
        }
      },
      "source": [
        "# Your code here\n",
        "#taking input  statements from the user\n",
        "a=input('enter the first statement  ')\n",
        "b=input('enter the second statement  ')\n",
        "\n",
        "lsta = splitstring(a)\n",
        "lstb = splitstring(b)\n",
        "print(\"splitting first statement :\"+str(lsta))\n",
        "print(\"splitting second statement :\"+str(lstb))\n",
        "print(\"Common elements: \"+ str(list(set(lsta)& set(lstb))))\n",
        "\n",
        "print(\"\\nAfter removing punctuations:\")\n",
        "print(\"first statement : \"+str(removepunct(lsta)))\n",
        "print(\"second statement : \"+str(removepunct(lstb)))\n",
        "\n",
        "print(\"\\nprinting vowels frequency : \")\n",
        "print (\"First sentence:\"+ str(Check_Vow(a)))\n",
        "print (\"Second sentence:\"+ str(Check_Vow(b)))\n"
      ],
      "execution_count": 6,
      "outputs": [
        {
          "output_type": "stream",
          "text": [
            "enter the first statement  Alas! Am I alive? This is my first python program\n",
            "enter the second statement  Alas! Am I alive? This is my first python program\n",
            "splitting first statement :['Alas', '!', 'Am', 'I', 'alive', '?', 'This', 'is', 'my', 'first', 'python', 'program']\n",
            "splitting second statement :['Alas', '!', 'Am', 'I', 'alive', '?', 'This', 'is', 'my', 'first', 'python', 'program']\n",
            "Common elements: ['!', 'first', 'This', 'alive', 'python', 'Am', 'I', 'Alas', 'is', 'my', '?', 'program']\n",
            "\n",
            "After removing punctuations:\n",
            "first statement : ['Alas', 'Am', 'I', 'alive', 'This', 'is', 'my', 'first', 'python', 'program']\n",
            "second statement : ['Alas', 'Am', 'I', 'alive', 'This', 'is', 'my', 'first', 'python', 'program']\n",
            "\n",
            "printing vowels frequency : \n",
            "First sentence:{'a': 3, 'e': 1, 'i': 4, 'o': 2, 'u': 0, 'A': 2, 'E': 0, 'I': 1, 'O': 0, 'U': 0}\n",
            "Second sentence:{'a': 3, 'e': 1, 'i': 4, 'o': 2, 'u': 0, 'A': 2, 'E': 0, 'I': 1, 'O': 0, 'U': 0}\n"
          ],
          "name": "stdout"
        }
      ]
    },
    {
      "cell_type": "markdown",
      "metadata": {
        "id": "CmFoI4jDS9nx",
        "colab_type": "text"
      },
      "source": [
        "# Math operation\n",
        "\n",
        "The formula that describes the volume V of a sphere with radius r is the following:\n",
        "\n",
        "$ V=\\frac{4}{3}\\ast\\ \\pi\\ast\\ r^3 $\n",
        "\n",
        "Write a program to calculate the value of V when r is in the range of 1–10. Output the result in the following format:\n",
        "\n",
        "\tr\tV\n",
        "\t1\t…\n",
        "\t2\t…\n",
        "\t3\t…\n"
      ]
    },
    {
      "cell_type": "code",
      "metadata": {
        "id": "pEyqeioAT95b",
        "colab_type": "code",
        "outputId": "9cc9fef1-211c-4a37-8035-755cdbd0c8c8",
        "colab": {
          "base_uri": "https://localhost:8080/",
          "height": 225
        }
      },
      "source": [
        "# Your code here\n",
        "import math \n",
        "def volume(r):\n",
        "  return round(4/3* math.pi * r**3,3)\n",
        "print(\"r V\")\n",
        "for r in range(11):\n",
        "  print(str(r)+\" \"+str(volume(r)))"
      ],
      "execution_count": 0,
      "outputs": [
        {
          "output_type": "stream",
          "text": [
            "r V\n",
            "0 0.0\n",
            "1 4.189\n",
            "2 33.51\n",
            "3 113.097\n",
            "4 268.083\n",
            "5 523.599\n",
            "6 904.779\n",
            "7 1436.755\n",
            "8 2144.661\n",
            "9 3053.628\n",
            "10 4188.79\n"
          ],
          "name": "stdout"
        }
      ]
    },
    {
      "cell_type": "code",
      "metadata": {
        "id": "pMCr3l8tnu0j",
        "colab_type": "code",
        "colab": {}
      },
      "source": [
        ""
      ],
      "execution_count": 0,
      "outputs": []
    },
    {
      "cell_type": "markdown",
      "metadata": {
        "colab_type": "text",
        "id": "SMevXf1wvHIm"
      },
      "source": [
        "\n",
        "\n",
        "```\n",
        "# This is formatted as code\n",
        "```\n",
        "\n",
        "# Question 4\n",
        "\n",
        "(40 points). In the field of Data Science, data is often formatted as a comma-delimited (CSV) file, where each line in a file corresponds to a field's value. Refer to Chapter 9 (p. 106) for more information on comma-delimited files. To answer this question, you will need to download the file [Assignment1_denton_housing.csv](https://github.com/unt-iialab/INFO5731_Spring2020/blob/master/Assignments/Assignment1_denton_housing.csv) included with this assignment. The [file Assignment1_denton_housing.csv](https://github.com/unt-iialab/INFO5731_Spring2020/blob/master/Assignments/Assignment1_denton_housing.csv) contains statistics about housing in the city of Denton from 2008 to 2014. Write a program to implement the following questions.\n",
        "\n",
        "(1) (10 pts) Calculate the difference in the number of Occupied Housing Units from year to year and print it. The difference must be calculated for the consecutive years such as 2008-2009, 2009-2010 etc. Finally, print the values in the ascending order.\n",
        "\n",
        "(2) (10 pts) For all the years, calculate the percentage of housing units which are vacant an occupied. Print the results in the following format:\n",
        "\n",
        "Year Vacant Housing Units Occupied Housing Units\n",
        "\n",
        "    2008  30%   70%                          \n",
        "\t2009 ----- -----\n",
        "\t2010 ----- -----\n",
        "    2011 ----- -----\n",
        "\t2012 ----- -----\n",
        "    2013 ----- -----\n",
        "\t2014 ----- -----\n",
        "  \n",
        "  \n",
        "\n",
        "(3) (10 pts) Calculate and print the valued and years in which the highest number of housing units were vacant and occupied. Print the results in the following format:  \n",
        "\n",
        "                              Year\tValue\n",
        "\tVacant Housing Units\t  -----   -----\n",
        "\tOccupied Housing Units\t-----   -----\n",
        "\n",
        "(4) (10 pts) Calculate the harmonic mean of the total housing units and print it out. You can find the information about harmonic mean here: https://ncalculators.com/statistics/harmonic-mean-calculator.htm"
      ]
    },
    {
      "cell_type": "code",
      "metadata": {
        "id": "lqGYuHBhcsRH",
        "colab_type": "code",
        "outputId": "e8fd8f75-3412-43c1-8cb7-f482ef573955",
        "colab": {
          "base_uri": "https://localhost:8080/",
          "height": 136
        }
      },
      "source": [
        "# Your code here\n",
        "#1\n",
        "import pandas as pd\n",
        "url = \"https://raw.githubusercontent.com/unt-iialab/INFO5731_Spring2020/master/Assignments/Assignment1_denton_housing.csv\"\n",
        "\n",
        "df = pd.read_csv(url)\n",
        "\n",
        "df = df.loc[df['title_field'] == 'Occupied Housing Units']\n",
        "df = df['value']\n",
        "df.diff().dropna().sort_values()"
      ],
      "execution_count": 7,
      "outputs": [
        {
          "output_type": "execute_result",
          "data": {
            "text/plain": [
              "17   -5091.0\n",
              "5    -2622.0\n",
              "8    -1565.0\n",
              "11   -1404.0\n",
              "14     303.0\n",
              "20     795.0\n",
              "Name: value, dtype: float64"
            ]
          },
          "metadata": {
            "tags": []
          },
          "execution_count": 7
        }
      ]
    },
    {
      "cell_type": "code",
      "metadata": {
        "id": "eni7G5t93qyL",
        "colab_type": "code",
        "outputId": "4bd8ad39-7682-45cb-b2f7-906d6cd68370",
        "colab": {
          "base_uri": "https://localhost:8080/",
          "height": 156
        }
      },
      "source": [
        "#2\n",
        "df = pd.read_csv(url)\n",
        "\n",
        "occHouse = df.loc[df['title_field'] == 'Occupied Housing Units'].sort_values(by = ['year'])['value'].values.tolist()\n",
        "vacHouse = df.loc[df['title_field'] == 'Vacant Housing Units'].sort_values(by = ['year'])['value'].values.tolist()\n",
        "total = df.loc[df['title_field'] == 'Total Housing Units'].sort_values(by=['year'])['value'].values.tolist()\n",
        "\n",
        "vacantPercent = [str((i/j)*100)+' %' for i,j in zip(vacHouse,total)]\n",
        "occupPercent = [str((i/j)*100)+' %' for i,j in zip(occHouse,total)]\n",
        "\n",
        "df = pd.concat([pd.DataFrame(df.loc[df['title_field'] == 'Occupied Housing Units'].sort_values(by = ['year'])['year'].values.tolist(),\n",
        "                             columns=['Year']),\n",
        "                pd.DataFrame(vacantPercent,columns =['vacant housing units']),\n",
        "                pd.DataFrame(occupPercent,columns =['occupied housing units'])],axis=1)\n",
        "print(df)"
      ],
      "execution_count": 0,
      "outputs": [
        {
          "output_type": "stream",
          "text": [
            "   Year vacant housing units occupied housing units\n",
            "0  2008  10.88265281351653 %    89.11734718648347 %\n",
            "1  2009   9.07111572444872 %    90.92888427555128 %\n",
            "2  2010  8.142556337081672 %    91.85744366291833 %\n",
            "3  2011  9.379522229890688 %     90.6204777701093 %\n",
            "4  2012  6.677600230491346 %    93.32239976950866 %\n",
            "5  2013  8.801787504176412 %    91.19821249582358 %\n",
            "6  2014  5.730110570363885 %    94.26988942963611 %\n"
          ],
          "name": "stdout"
        }
      ]
    },
    {
      "cell_type": "code",
      "metadata": {
        "id": "Aen7BSaL4JgM",
        "colab_type": "code",
        "outputId": "c1085b4f-0d5a-4679-b477-7c504105c540",
        "colab": {
          "base_uri": "https://localhost:8080/",
          "height": 69
        }
      },
      "source": [
        "#3\n",
        "df = pd.read_csv(url)\n",
        "df = df.sort_values(by = ['year'])\n",
        "maxOccupied = df.loc[df['title_field'] == 'Occupied Housing Units','value'].max()\n",
        "maxVacant = df.loc[df['title_field'] == 'Vacant Housing Units','value'].max()\n",
        "occDf = df.loc[(df['title_field'] == 'Occupied Housing Units') & (df['value'] == maxOccupied)]\n",
        "vacDf = df.loc[(df['title_field'] == 'Vacant Housing Units') & (df['value'] == maxVacant)]\n",
        "df = pd.concat([vacDf,occDf])\n",
        "print(df[['title_field','year','value']])"
      ],
      "execution_count": 0,
      "outputs": [
        {
          "output_type": "stream",
          "text": [
            "               title_field  year  value\n",
            "19    Vacant Housing Units  2008   4483\n",
            "2   Occupied Housing Units  2014  46295\n"
          ],
          "name": "stdout"
        }
      ]
    },
    {
      "cell_type": "code",
      "metadata": {
        "id": "kzTui1wbK1ko",
        "colab_type": "code",
        "outputId": "cea0caf4-5862-427a-96bc-0067395514af",
        "colab": {
          "base_uri": "https://localhost:8080/",
          "height": 35
        }
      },
      "source": [
        "#4\n",
        "from scipy import stats\n",
        "df = pd.read_csv(url)\n",
        "total = df.loc[df['title_field'] == 'Total Housing Units','value'].values\n",
        "print (\"harmonic mean of total housing units=  %f\"%stats.hmean(total))"
      ],
      "execution_count": 0,
      "outputs": [
        {
          "output_type": "stream",
          "text": [
            "harmonic mean of total housing units=  44398.285440\n"
          ],
          "name": "stdout"
        }
      ]
    }
  ]
}