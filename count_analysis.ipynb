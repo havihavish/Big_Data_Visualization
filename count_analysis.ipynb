{
  "nbformat": 4,
  "nbformat_minor": 0,
  "metadata": {
    "colab": {
      "name": "count analysis.ipynb",
      "provenance": [],
      "collapsed_sections": [],
      "include_colab_link": true
    },
    "kernelspec": {
      "name": "python3",
      "display_name": "Python 3"
    }
  },
  "cells": [
    {
      "cell_type": "markdown",
      "metadata": {
        "id": "view-in-github",
        "colab_type": "text"
      },
      "source": [
        "<a href=\"https://colab.research.google.com/github/havihavish/Big_Data_Visualization/blob/master/count_analysis.ipynb\" target=\"_parent\"><img src=\"https://colab.research.google.com/assets/colab-badge.svg\" alt=\"Open In Colab\"/></a>"
      ]
    },
    {
      "cell_type": "code",
      "metadata": {
        "id": "-4KEmIekE-P0",
        "colab_type": "code",
        "colab": {}
      },
      "source": [
        "import pandas as pd \n",
        "df=pd.read_csv('Final_Table_3.csv',low_memory=False)"
      ],
      "execution_count": 0,
      "outputs": []
    },
    {
      "cell_type": "code",
      "metadata": {
        "id": "jenI8T2xk-hr",
        "colab_type": "code",
        "outputId": "8085943c-1751-41d3-8c3e-7bb271d2c50c",
        "colab": {
          "base_uri": "https://localhost:8080/",
          "height": 482
        }
      },
      "source": [
        "df.head()"
      ],
      "execution_count": 0,
      "outputs": [
        {
          "output_type": "execute_result",
          "data": {
            "text/html": [
              "<div>\n",
              "<style scoped>\n",
              "    .dataframe tbody tr th:only-of-type {\n",
              "        vertical-align: middle;\n",
              "    }\n",
              "\n",
              "    .dataframe tbody tr th {\n",
              "        vertical-align: top;\n",
              "    }\n",
              "\n",
              "    .dataframe thead th {\n",
              "        text-align: right;\n",
              "    }\n",
              "</style>\n",
              "<table border=\"1\" class=\"dataframe\">\n",
              "  <thead>\n",
              "    <tr style=\"text-align: right;\">\n",
              "      <th></th>\n",
              "      <th>Unnamed: 0</th>\n",
              "      <th>article_id</th>\n",
              "      <th>paperId</th>\n",
              "      <th>doi</th>\n",
              "      <th>title</th>\n",
              "      <th>venue</th>\n",
              "      <th>year</th>\n",
              "      <th>intent</th>\n",
              "      <th>isInfluential</th>\n",
              "    </tr>\n",
              "  </thead>\n",
              "  <tbody>\n",
              "    <tr>\n",
              "      <th>0</th>\n",
              "      <td>0</td>\n",
              "      <td>10.1145/511285.511288</td>\n",
              "      <td>8113edc6c95508bc7f9ae624903f8f4c98d3395b</td>\n",
              "      <td>10.1007/BF01007763</td>\n",
              "      <td>Relevance of computer science to linguistics a...</td>\n",
              "      <td>International Journal of Computer &amp; Informatio...</td>\n",
              "      <td>1975.0</td>\n",
              "      <td>NaN</td>\n",
              "      <td>False</td>\n",
              "    </tr>\n",
              "    <tr>\n",
              "      <th>1</th>\n",
              "      <td>1</td>\n",
              "      <td>10.1145/511285.511288</td>\n",
              "      <td>819c14aeb7fbd7819baa58f038142db1f0cfc351</td>\n",
              "      <td>10.3115/992532.992563</td>\n",
              "      <td>An English Dictionary for Computerized Syntact...</td>\n",
              "      <td>COLING</td>\n",
              "      <td>1973.0</td>\n",
              "      <td>NaN</td>\n",
              "      <td>False</td>\n",
              "    </tr>\n",
              "    <tr>\n",
              "      <th>2</th>\n",
              "      <td>2</td>\n",
              "      <td>10.1145/511285.511288</td>\n",
              "      <td>28dd43a10b78cc6297081fb7b9be86e114894391</td>\n",
              "      <td>10.1145/1095515.1095516</td>\n",
              "      <td>Information storage and retrieval: a survey an...</td>\n",
              "      <td>SIGF</td>\n",
              "      <td>1977.0</td>\n",
              "      <td>NaN</td>\n",
              "      <td>False</td>\n",
              "    </tr>\n",
              "    <tr>\n",
              "      <th>3</th>\n",
              "      <td>3</td>\n",
              "      <td>10.1145/511285.511288</td>\n",
              "      <td>24f73ab2828f9aecbc079a9d5f5028c392eaa5b0</td>\n",
              "      <td>10.1002/asi.4630290207</td>\n",
              "      <td>Automatic indexing of pathology data</td>\n",
              "      <td>JASIS</td>\n",
              "      <td>1978.0</td>\n",
              "      <td>NaN</td>\n",
              "      <td>False</td>\n",
              "    </tr>\n",
              "    <tr>\n",
              "      <th>4</th>\n",
              "      <td>4</td>\n",
              "      <td>10.1145/511285.511288</td>\n",
              "      <td>393a9de965783f2c0f42b82db47321df10402472</td>\n",
              "      <td>10.1007/BF00998326</td>\n",
              "      <td>Simple-english for data base communication</td>\n",
              "      <td>International Journal of Computer &amp; Informatio...</td>\n",
              "      <td>1977.0</td>\n",
              "      <td>background</td>\n",
              "      <td>False</td>\n",
              "    </tr>\n",
              "  </tbody>\n",
              "</table>\n",
              "</div>"
            ],
            "text/plain": [
              "   Unnamed: 0             article_id  ...      intent isInfluential\n",
              "0           0  10.1145/511285.511288  ...         NaN         False\n",
              "1           1  10.1145/511285.511288  ...         NaN         False\n",
              "2           2  10.1145/511285.511288  ...         NaN         False\n",
              "3           3  10.1145/511285.511288  ...         NaN         False\n",
              "4           4  10.1145/511285.511288  ...  background         False\n",
              "\n",
              "[5 rows x 9 columns]"
            ]
          },
          "metadata": {
            "tags": []
          },
          "execution_count": 28
        }
      ]
    },
    {
      "cell_type": "code",
      "metadata": {
        "id": "EDtYtRdUFu8u",
        "colab_type": "code",
        "outputId": "40c16262-7675-4aa1-85e8-55a07f964d1c",
        "colab": {
          "base_uri": "https://localhost:8080/",
          "height": 191
        }
      },
      "source": [
        "df.dtypes"
      ],
      "execution_count": 0,
      "outputs": [
        {
          "output_type": "execute_result",
          "data": {
            "text/plain": [
              "Unnamed: 0         int64\n",
              "article_id        object\n",
              "paperId           object\n",
              "doi               object\n",
              "title             object\n",
              "venue             object\n",
              "year             float64\n",
              "intent            object\n",
              "isInfluential       bool\n",
              "dtype: object"
            ]
          },
          "metadata": {
            "tags": []
          },
          "execution_count": 29
        }
      ]
    },
    {
      "cell_type": "code",
      "metadata": {
        "id": "iR5ODJQQFxqz",
        "colab_type": "code",
        "colab": {}
      },
      "source": [
        "y=df.groupby('year')\n"
      ],
      "execution_count": 0,
      "outputs": []
    },
    {
      "cell_type": "code",
      "metadata": {
        "id": "ljNZxOapF-MP",
        "colab_type": "code",
        "outputId": "061471b5-2ea4-497f-dc95-190235ad161b",
        "colab": {
          "base_uri": "https://localhost:8080/",
          "height": 334
        }
      },
      "source": [
        "y.get_group(1975.0)"
      ],
      "execution_count": 0,
      "outputs": [
        {
          "output_type": "execute_result",
          "data": {
            "text/html": [
              "<div>\n",
              "<style scoped>\n",
              "    .dataframe tbody tr th:only-of-type {\n",
              "        vertical-align: middle;\n",
              "    }\n",
              "\n",
              "    .dataframe tbody tr th {\n",
              "        vertical-align: top;\n",
              "    }\n",
              "\n",
              "    .dataframe thead th {\n",
              "        text-align: right;\n",
              "    }\n",
              "</style>\n",
              "<table border=\"1\" class=\"dataframe\">\n",
              "  <thead>\n",
              "    <tr style=\"text-align: right;\">\n",
              "      <th></th>\n",
              "      <th>Unnamed: 0</th>\n",
              "      <th>article_id</th>\n",
              "      <th>paperId</th>\n",
              "      <th>doi</th>\n",
              "      <th>title</th>\n",
              "      <th>venue</th>\n",
              "      <th>year</th>\n",
              "      <th>intent</th>\n",
              "      <th>isInfluential</th>\n",
              "    </tr>\n",
              "  </thead>\n",
              "  <tbody>\n",
              "    <tr>\n",
              "      <th>0</th>\n",
              "      <td>0</td>\n",
              "      <td>10.1145/511285.511288</td>\n",
              "      <td>8113edc6c95508bc7f9ae624903f8f4c98d3395b</td>\n",
              "      <td>10.1007/BF01007763</td>\n",
              "      <td>Relevance of computer science to linguistics a...</td>\n",
              "      <td>International Journal of Computer &amp; Informatio...</td>\n",
              "      <td>1975.0</td>\n",
              "      <td>NaN</td>\n",
              "      <td>False</td>\n",
              "    </tr>\n",
              "    <tr>\n",
              "      <th>11</th>\n",
              "      <td>11</td>\n",
              "      <td>10.1145/511285.511290</td>\n",
              "      <td>7ec642a8dd038eece16cc63988b0daf74e83b576</td>\n",
              "      <td>10.1145/1499949.1500028</td>\n",
              "      <td>A multi-level relational system</td>\n",
              "      <td>AFIPS '75</td>\n",
              "      <td>1975.0</td>\n",
              "      <td>NaN</td>\n",
              "      <td>False</td>\n",
              "    </tr>\n",
              "    <tr>\n",
              "      <th>18</th>\n",
              "      <td>18</td>\n",
              "      <td>10.1145/511285.511290</td>\n",
              "      <td>bf6d299619c7a4ce81023bf2cd75c730a25ce5a1</td>\n",
              "      <td>NaN</td>\n",
              "      <td>TORUS - A Natural Language Understanding Syste...</td>\n",
              "      <td>IJCAI</td>\n",
              "      <td>1975.0</td>\n",
              "      <td>NaN</td>\n",
              "      <td>False</td>\n",
              "    </tr>\n",
              "  </tbody>\n",
              "</table>\n",
              "</div>"
            ],
            "text/plain": [
              "    Unnamed: 0             article_id  ... intent isInfluential\n",
              "0            0  10.1145/511285.511288  ...    NaN         False\n",
              "11          11  10.1145/511285.511290  ...    NaN         False\n",
              "18          18  10.1145/511285.511290  ...    NaN         False\n",
              "\n",
              "[3 rows x 9 columns]"
            ]
          },
          "metadata": {
            "tags": []
          },
          "execution_count": 31
        }
      ]
    },
    {
      "cell_type": "code",
      "metadata": {
        "id": "fx35nv6IHuyK",
        "colab_type": "code",
        "outputId": "6dd99430-f4c0-4a8c-ed22-da13da2bf88a",
        "colab": {
          "base_uri": "https://localhost:8080/",
          "height": 936
        }
      },
      "source": [
        "df.groupby('year').size()"
      ],
      "execution_count": 0,
      "outputs": [
        {
          "output_type": "execute_result",
          "data": {
            "text/plain": [
              "year\n",
              "1959.0        1\n",
              "1971.0        2\n",
              "1972.0        2\n",
              "1973.0       10\n",
              "1974.0        2\n",
              "1975.0        3\n",
              "1976.0        2\n",
              "1977.0        8\n",
              "1978.0        2\n",
              "1979.0        6\n",
              "1980.0        5\n",
              "1981.0        3\n",
              "1982.0        5\n",
              "1983.0        7\n",
              "1984.0        3\n",
              "1985.0       16\n",
              "1986.0       23\n",
              "1987.0       46\n",
              "1988.0       68\n",
              "1989.0      112\n",
              "1990.0       66\n",
              "1991.0      129\n",
              "1992.0      230\n",
              "1993.0      260\n",
              "1994.0      390\n",
              "1995.0      468\n",
              "1996.0      592\n",
              "1997.0      757\n",
              "1998.0     1118\n",
              "1999.0     1298\n",
              "2000.0     1795\n",
              "2001.0     1969\n",
              "2002.0     2583\n",
              "2003.0     3042\n",
              "2004.0     4048\n",
              "2005.0     4817\n",
              "2006.0     5750\n",
              "2007.0     6985\n",
              "2008.0     8202\n",
              "2009.0     9283\n",
              "2010.0     9308\n",
              "2011.0    10228\n",
              "2012.0    11113\n",
              "2013.0    11404\n",
              "2014.0    12427\n",
              "2015.0    12252\n",
              "2016.0    12687\n",
              "2017.0    12879\n",
              "2018.0    12114\n",
              "2019.0    11836\n",
              "2020.0     2253\n",
              "dtype: int64"
            ]
          },
          "metadata": {
            "tags": []
          },
          "execution_count": 32
        }
      ]
    },
    {
      "cell_type": "code",
      "metadata": {
        "id": "AmnCsAbHIbDg",
        "colab_type": "code",
        "colab": {}
      },
      "source": [
        "count=df.groupby(['year','isInfluential']).size()"
      ],
      "execution_count": 0,
      "outputs": []
    },
    {
      "cell_type": "code",
      "metadata": {
        "id": "BhnbNjhEItEg",
        "colab_type": "code",
        "outputId": "016bcca8-5195-42a0-a5a3-ab40db955458",
        "colab": {
          "base_uri": "https://localhost:8080/",
          "height": 243
        }
      },
      "source": [
        "print(count)"
      ],
      "execution_count": 0,
      "outputs": [
        {
          "output_type": "stream",
          "text": [
            "year    isInfluential\n",
            "1959.0  False                1\n",
            "1971.0  False                2\n",
            "1972.0  False                2\n",
            "1973.0  False               10\n",
            "1974.0  False                1\n",
            "                         ...  \n",
            "2018.0  True              1338\n",
            "2019.0  False            10482\n",
            "        True              1354\n",
            "2020.0  False             1954\n",
            "        True               299\n",
            "Length: 87, dtype: int64\n"
          ],
          "name": "stdout"
        }
      ]
    },
    {
      "cell_type": "code",
      "metadata": {
        "id": "WDVjOU5Oi_mU",
        "colab_type": "code",
        "outputId": "c8e54b8e-a900-4254-9ad2-bd437a70326f",
        "colab": {
          "base_uri": "https://localhost:8080/",
          "height": 35
        }
      },
      "source": [
        "count.shape"
      ],
      "execution_count": 0,
      "outputs": [
        {
          "output_type": "execute_result",
          "data": {
            "text/plain": [
              "(87,)"
            ]
          },
          "metadata": {
            "tags": []
          },
          "execution_count": 35
        }
      ]
    },
    {
      "cell_type": "code",
      "metadata": {
        "id": "DGTIiqidkYTk",
        "colab_type": "code",
        "colab": {}
      },
      "source": [
        "count_df = pd.DataFrame({'Count' : df.groupby( [ 'year','isInfluential'] ).size()}).reset_index()"
      ],
      "execution_count": 0,
      "outputs": []
    },
    {
      "cell_type": "code",
      "metadata": {
        "id": "rtb05jD6lHTQ",
        "colab_type": "code",
        "outputId": "2b817629-3ccc-4c42-9476-79a143e2b232",
        "colab": {
          "base_uri": "https://localhost:8080/",
          "height": 355
        }
      },
      "source": [
        "count_df.head(10)"
      ],
      "execution_count": 0,
      "outputs": [
        {
          "output_type": "execute_result",
          "data": {
            "text/html": [
              "<div>\n",
              "<style scoped>\n",
              "    .dataframe tbody tr th:only-of-type {\n",
              "        vertical-align: middle;\n",
              "    }\n",
              "\n",
              "    .dataframe tbody tr th {\n",
              "        vertical-align: top;\n",
              "    }\n",
              "\n",
              "    .dataframe thead th {\n",
              "        text-align: right;\n",
              "    }\n",
              "</style>\n",
              "<table border=\"1\" class=\"dataframe\">\n",
              "  <thead>\n",
              "    <tr style=\"text-align: right;\">\n",
              "      <th></th>\n",
              "      <th>year</th>\n",
              "      <th>isInfluential</th>\n",
              "      <th>Count</th>\n",
              "    </tr>\n",
              "  </thead>\n",
              "  <tbody>\n",
              "    <tr>\n",
              "      <th>0</th>\n",
              "      <td>1959.0</td>\n",
              "      <td>False</td>\n",
              "      <td>1</td>\n",
              "    </tr>\n",
              "    <tr>\n",
              "      <th>1</th>\n",
              "      <td>1971.0</td>\n",
              "      <td>False</td>\n",
              "      <td>2</td>\n",
              "    </tr>\n",
              "    <tr>\n",
              "      <th>2</th>\n",
              "      <td>1972.0</td>\n",
              "      <td>False</td>\n",
              "      <td>2</td>\n",
              "    </tr>\n",
              "    <tr>\n",
              "      <th>3</th>\n",
              "      <td>1973.0</td>\n",
              "      <td>False</td>\n",
              "      <td>10</td>\n",
              "    </tr>\n",
              "    <tr>\n",
              "      <th>4</th>\n",
              "      <td>1974.0</td>\n",
              "      <td>False</td>\n",
              "      <td>1</td>\n",
              "    </tr>\n",
              "    <tr>\n",
              "      <th>5</th>\n",
              "      <td>1974.0</td>\n",
              "      <td>True</td>\n",
              "      <td>1</td>\n",
              "    </tr>\n",
              "    <tr>\n",
              "      <th>6</th>\n",
              "      <td>1975.0</td>\n",
              "      <td>False</td>\n",
              "      <td>3</td>\n",
              "    </tr>\n",
              "    <tr>\n",
              "      <th>7</th>\n",
              "      <td>1976.0</td>\n",
              "      <td>False</td>\n",
              "      <td>2</td>\n",
              "    </tr>\n",
              "    <tr>\n",
              "      <th>8</th>\n",
              "      <td>1977.0</td>\n",
              "      <td>False</td>\n",
              "      <td>8</td>\n",
              "    </tr>\n",
              "    <tr>\n",
              "      <th>9</th>\n",
              "      <td>1978.0</td>\n",
              "      <td>False</td>\n",
              "      <td>2</td>\n",
              "    </tr>\n",
              "  </tbody>\n",
              "</table>\n",
              "</div>"
            ],
            "text/plain": [
              "     year  isInfluential  Count\n",
              "0  1959.0          False      1\n",
              "1  1971.0          False      2\n",
              "2  1972.0          False      2\n",
              "3  1973.0          False     10\n",
              "4  1974.0          False      1\n",
              "5  1974.0           True      1\n",
              "6  1975.0          False      3\n",
              "7  1976.0          False      2\n",
              "8  1977.0          False      8\n",
              "9  1978.0          False      2"
            ]
          },
          "metadata": {
            "tags": []
          },
          "execution_count": 37
        }
      ]
    },
    {
      "cell_type": "code",
      "metadata": {
        "id": "sDm_YO-eJpRE",
        "colab_type": "code",
        "colab": {}
      },
      "source": [
        "count_df.to_csv('count_file.csv')"
      ],
      "execution_count": 0,
      "outputs": []
    },
    {
      "cell_type": "code",
      "metadata": {
        "id": "GsDDMk0ZLY63",
        "colab_type": "code",
        "outputId": "24c96b0d-ca82-4b74-c0e8-d10598b47b2f",
        "colab": {
          "base_uri": "https://localhost:8080/",
          "height": 1000
        }
      },
      "source": [
        "count_year = count_df.pivot_table('Count',['year'],'isInfluential')\n",
        "count_year"
      ],
      "execution_count": 0,
      "outputs": [
        {
          "output_type": "execute_result",
          "data": {
            "text/html": [
              "<div>\n",
              "<style scoped>\n",
              "    .dataframe tbody tr th:only-of-type {\n",
              "        vertical-align: middle;\n",
              "    }\n",
              "\n",
              "    .dataframe tbody tr th {\n",
              "        vertical-align: top;\n",
              "    }\n",
              "\n",
              "    .dataframe thead th {\n",
              "        text-align: right;\n",
              "    }\n",
              "</style>\n",
              "<table border=\"1\" class=\"dataframe\">\n",
              "  <thead>\n",
              "    <tr style=\"text-align: right;\">\n",
              "      <th>isInfluential</th>\n",
              "      <th>False</th>\n",
              "      <th>True</th>\n",
              "    </tr>\n",
              "    <tr>\n",
              "      <th>year</th>\n",
              "      <th></th>\n",
              "      <th></th>\n",
              "    </tr>\n",
              "  </thead>\n",
              "  <tbody>\n",
              "    <tr>\n",
              "      <th>1959.0</th>\n",
              "      <td>1.0</td>\n",
              "      <td>NaN</td>\n",
              "    </tr>\n",
              "    <tr>\n",
              "      <th>1971.0</th>\n",
              "      <td>2.0</td>\n",
              "      <td>NaN</td>\n",
              "    </tr>\n",
              "    <tr>\n",
              "      <th>1972.0</th>\n",
              "      <td>2.0</td>\n",
              "      <td>NaN</td>\n",
              "    </tr>\n",
              "    <tr>\n",
              "      <th>1973.0</th>\n",
              "      <td>10.0</td>\n",
              "      <td>NaN</td>\n",
              "    </tr>\n",
              "    <tr>\n",
              "      <th>1974.0</th>\n",
              "      <td>1.0</td>\n",
              "      <td>1.0</td>\n",
              "    </tr>\n",
              "    <tr>\n",
              "      <th>1975.0</th>\n",
              "      <td>3.0</td>\n",
              "      <td>NaN</td>\n",
              "    </tr>\n",
              "    <tr>\n",
              "      <th>1976.0</th>\n",
              "      <td>2.0</td>\n",
              "      <td>NaN</td>\n",
              "    </tr>\n",
              "    <tr>\n",
              "      <th>1977.0</th>\n",
              "      <td>8.0</td>\n",
              "      <td>NaN</td>\n",
              "    </tr>\n",
              "    <tr>\n",
              "      <th>1978.0</th>\n",
              "      <td>2.0</td>\n",
              "      <td>NaN</td>\n",
              "    </tr>\n",
              "    <tr>\n",
              "      <th>1979.0</th>\n",
              "      <td>6.0</td>\n",
              "      <td>NaN</td>\n",
              "    </tr>\n",
              "    <tr>\n",
              "      <th>1980.0</th>\n",
              "      <td>5.0</td>\n",
              "      <td>NaN</td>\n",
              "    </tr>\n",
              "    <tr>\n",
              "      <th>1981.0</th>\n",
              "      <td>3.0</td>\n",
              "      <td>NaN</td>\n",
              "    </tr>\n",
              "    <tr>\n",
              "      <th>1982.0</th>\n",
              "      <td>5.0</td>\n",
              "      <td>NaN</td>\n",
              "    </tr>\n",
              "    <tr>\n",
              "      <th>1983.0</th>\n",
              "      <td>6.0</td>\n",
              "      <td>1.0</td>\n",
              "    </tr>\n",
              "    <tr>\n",
              "      <th>1984.0</th>\n",
              "      <td>3.0</td>\n",
              "      <td>NaN</td>\n",
              "    </tr>\n",
              "    <tr>\n",
              "      <th>1985.0</th>\n",
              "      <td>16.0</td>\n",
              "      <td>NaN</td>\n",
              "    </tr>\n",
              "    <tr>\n",
              "      <th>1986.0</th>\n",
              "      <td>23.0</td>\n",
              "      <td>NaN</td>\n",
              "    </tr>\n",
              "    <tr>\n",
              "      <th>1987.0</th>\n",
              "      <td>45.0</td>\n",
              "      <td>1.0</td>\n",
              "    </tr>\n",
              "    <tr>\n",
              "      <th>1988.0</th>\n",
              "      <td>65.0</td>\n",
              "      <td>3.0</td>\n",
              "    </tr>\n",
              "    <tr>\n",
              "      <th>1989.0</th>\n",
              "      <td>109.0</td>\n",
              "      <td>3.0</td>\n",
              "    </tr>\n",
              "    <tr>\n",
              "      <th>1990.0</th>\n",
              "      <td>61.0</td>\n",
              "      <td>5.0</td>\n",
              "    </tr>\n",
              "    <tr>\n",
              "      <th>1991.0</th>\n",
              "      <td>125.0</td>\n",
              "      <td>4.0</td>\n",
              "    </tr>\n",
              "    <tr>\n",
              "      <th>1992.0</th>\n",
              "      <td>218.0</td>\n",
              "      <td>12.0</td>\n",
              "    </tr>\n",
              "    <tr>\n",
              "      <th>1993.0</th>\n",
              "      <td>253.0</td>\n",
              "      <td>7.0</td>\n",
              "    </tr>\n",
              "    <tr>\n",
              "      <th>1994.0</th>\n",
              "      <td>359.0</td>\n",
              "      <td>31.0</td>\n",
              "    </tr>\n",
              "    <tr>\n",
              "      <th>1995.0</th>\n",
              "      <td>439.0</td>\n",
              "      <td>29.0</td>\n",
              "    </tr>\n",
              "    <tr>\n",
              "      <th>1996.0</th>\n",
              "      <td>557.0</td>\n",
              "      <td>35.0</td>\n",
              "    </tr>\n",
              "    <tr>\n",
              "      <th>1997.0</th>\n",
              "      <td>708.0</td>\n",
              "      <td>49.0</td>\n",
              "    </tr>\n",
              "    <tr>\n",
              "      <th>1998.0</th>\n",
              "      <td>1059.0</td>\n",
              "      <td>59.0</td>\n",
              "    </tr>\n",
              "    <tr>\n",
              "      <th>1999.0</th>\n",
              "      <td>1202.0</td>\n",
              "      <td>96.0</td>\n",
              "    </tr>\n",
              "    <tr>\n",
              "      <th>2000.0</th>\n",
              "      <td>1639.0</td>\n",
              "      <td>156.0</td>\n",
              "    </tr>\n",
              "    <tr>\n",
              "      <th>2001.0</th>\n",
              "      <td>1814.0</td>\n",
              "      <td>155.0</td>\n",
              "    </tr>\n",
              "    <tr>\n",
              "      <th>2002.0</th>\n",
              "      <td>2321.0</td>\n",
              "      <td>262.0</td>\n",
              "    </tr>\n",
              "    <tr>\n",
              "      <th>2003.0</th>\n",
              "      <td>2761.0</td>\n",
              "      <td>281.0</td>\n",
              "    </tr>\n",
              "    <tr>\n",
              "      <th>2004.0</th>\n",
              "      <td>3666.0</td>\n",
              "      <td>382.0</td>\n",
              "    </tr>\n",
              "    <tr>\n",
              "      <th>2005.0</th>\n",
              "      <td>4359.0</td>\n",
              "      <td>458.0</td>\n",
              "    </tr>\n",
              "    <tr>\n",
              "      <th>2006.0</th>\n",
              "      <td>5149.0</td>\n",
              "      <td>601.0</td>\n",
              "    </tr>\n",
              "    <tr>\n",
              "      <th>2007.0</th>\n",
              "      <td>6158.0</td>\n",
              "      <td>827.0</td>\n",
              "    </tr>\n",
              "    <tr>\n",
              "      <th>2008.0</th>\n",
              "      <td>7287.0</td>\n",
              "      <td>915.0</td>\n",
              "    </tr>\n",
              "    <tr>\n",
              "      <th>2009.0</th>\n",
              "      <td>8293.0</td>\n",
              "      <td>990.0</td>\n",
              "    </tr>\n",
              "    <tr>\n",
              "      <th>2010.0</th>\n",
              "      <td>8257.0</td>\n",
              "      <td>1051.0</td>\n",
              "    </tr>\n",
              "    <tr>\n",
              "      <th>2011.0</th>\n",
              "      <td>9031.0</td>\n",
              "      <td>1197.0</td>\n",
              "    </tr>\n",
              "    <tr>\n",
              "      <th>2012.0</th>\n",
              "      <td>9811.0</td>\n",
              "      <td>1302.0</td>\n",
              "    </tr>\n",
              "    <tr>\n",
              "      <th>2013.0</th>\n",
              "      <td>10088.0</td>\n",
              "      <td>1316.0</td>\n",
              "    </tr>\n",
              "    <tr>\n",
              "      <th>2014.0</th>\n",
              "      <td>11012.0</td>\n",
              "      <td>1415.0</td>\n",
              "    </tr>\n",
              "    <tr>\n",
              "      <th>2015.0</th>\n",
              "      <td>10876.0</td>\n",
              "      <td>1376.0</td>\n",
              "    </tr>\n",
              "    <tr>\n",
              "      <th>2016.0</th>\n",
              "      <td>11296.0</td>\n",
              "      <td>1391.0</td>\n",
              "    </tr>\n",
              "    <tr>\n",
              "      <th>2017.0</th>\n",
              "      <td>11507.0</td>\n",
              "      <td>1372.0</td>\n",
              "    </tr>\n",
              "    <tr>\n",
              "      <th>2018.0</th>\n",
              "      <td>10776.0</td>\n",
              "      <td>1338.0</td>\n",
              "    </tr>\n",
              "    <tr>\n",
              "      <th>2019.0</th>\n",
              "      <td>10482.0</td>\n",
              "      <td>1354.0</td>\n",
              "    </tr>\n",
              "    <tr>\n",
              "      <th>2020.0</th>\n",
              "      <td>1954.0</td>\n",
              "      <td>299.0</td>\n",
              "    </tr>\n",
              "  </tbody>\n",
              "</table>\n",
              "</div>"
            ],
            "text/plain": [
              "isInfluential    False   True \n",
              "year                          \n",
              "1959.0             1.0     NaN\n",
              "1971.0             2.0     NaN\n",
              "1972.0             2.0     NaN\n",
              "1973.0            10.0     NaN\n",
              "1974.0             1.0     1.0\n",
              "1975.0             3.0     NaN\n",
              "1976.0             2.0     NaN\n",
              "1977.0             8.0     NaN\n",
              "1978.0             2.0     NaN\n",
              "1979.0             6.0     NaN\n",
              "1980.0             5.0     NaN\n",
              "1981.0             3.0     NaN\n",
              "1982.0             5.0     NaN\n",
              "1983.0             6.0     1.0\n",
              "1984.0             3.0     NaN\n",
              "1985.0            16.0     NaN\n",
              "1986.0            23.0     NaN\n",
              "1987.0            45.0     1.0\n",
              "1988.0            65.0     3.0\n",
              "1989.0           109.0     3.0\n",
              "1990.0            61.0     5.0\n",
              "1991.0           125.0     4.0\n",
              "1992.0           218.0    12.0\n",
              "1993.0           253.0     7.0\n",
              "1994.0           359.0    31.0\n",
              "1995.0           439.0    29.0\n",
              "1996.0           557.0    35.0\n",
              "1997.0           708.0    49.0\n",
              "1998.0          1059.0    59.0\n",
              "1999.0          1202.0    96.0\n",
              "2000.0          1639.0   156.0\n",
              "2001.0          1814.0   155.0\n",
              "2002.0          2321.0   262.0\n",
              "2003.0          2761.0   281.0\n",
              "2004.0          3666.0   382.0\n",
              "2005.0          4359.0   458.0\n",
              "2006.0          5149.0   601.0\n",
              "2007.0          6158.0   827.0\n",
              "2008.0          7287.0   915.0\n",
              "2009.0          8293.0   990.0\n",
              "2010.0          8257.0  1051.0\n",
              "2011.0          9031.0  1197.0\n",
              "2012.0          9811.0  1302.0\n",
              "2013.0         10088.0  1316.0\n",
              "2014.0         11012.0  1415.0\n",
              "2015.0         10876.0  1376.0\n",
              "2016.0         11296.0  1391.0\n",
              "2017.0         11507.0  1372.0\n",
              "2018.0         10776.0  1338.0\n",
              "2019.0         10482.0  1354.0\n",
              "2020.0          1954.0   299.0"
            ]
          },
          "metadata": {
            "tags": []
          },
          "execution_count": 39
        }
      ]
    },
    {
      "cell_type": "code",
      "metadata": {
        "id": "TMzmJJYLZniU",
        "colab_type": "code",
        "outputId": "251049fb-b425-4490-b24d-51b97a5fe3bd",
        "colab": {
          "base_uri": "https://localhost:8080/",
          "height": 52
        }
      },
      "source": [
        "for col in count_year.columns:\n",
        "    print(col)\n"
      ],
      "execution_count": 0,
      "outputs": [
        {
          "output_type": "stream",
          "text": [
            "False\n",
            "True\n"
          ],
          "name": "stdout"
        }
      ]
    },
    {
      "cell_type": "code",
      "metadata": {
        "id": "UTxJ1fDqej1W",
        "colab_type": "code",
        "outputId": "3e82905d-306c-4c61-bff2-e2b5336fd3af",
        "colab": {
          "base_uri": "https://localhost:8080/",
          "height": 35
        }
      },
      "source": [
        "false_count=count_year.iloc[:,0].sum()\n",
        "print(false_count)"
      ],
      "execution_count": 0,
      "outputs": [
        {
          "output_type": "stream",
          "text": [
            "153835.0\n"
          ],
          "name": "stdout"
        }
      ]
    },
    {
      "cell_type": "code",
      "metadata": {
        "id": "I_OE2x-SyZ3y",
        "colab_type": "code",
        "outputId": "05713a78-0ae9-4222-864a-4e4affbd2de3",
        "colab": {
          "base_uri": "https://localhost:8080/",
          "height": 35
        }
      },
      "source": [
        "\n",
        "true_count=count_year.iloc[:,1].sum()\n",
        "print(true_count)"
      ],
      "execution_count": 0,
      "outputs": [
        {
          "output_type": "stream",
          "text": [
            "18774.0\n"
          ],
          "name": "stdout"
        }
      ]
    },
    {
      "cell_type": "code",
      "metadata": {
        "id": "vR8flpADyeFp",
        "colab_type": "code",
        "outputId": "f91f9209-e6d0-44fa-f795-56a95003e123",
        "colab": {
          "base_uri": "https://localhost:8080/",
          "height": 35
        }
      },
      "source": [
        "total=false_count+true_count\n",
        "total"
      ],
      "execution_count": 0,
      "outputs": [
        {
          "output_type": "execute_result",
          "data": {
            "text/plain": [
              "172609.0"
            ]
          },
          "metadata": {
            "tags": []
          },
          "execution_count": 43
        }
      ]
    },
    {
      "cell_type": "code",
      "metadata": {
        "id": "s_L11VhcymGo",
        "colab_type": "code",
        "outputId": "ecaba8f8-3b57-4b93-a083-21e47006b6b5",
        "colab": {
          "base_uri": "https://localhost:8080/",
          "height": 35
        }
      },
      "source": [
        "true_avg=true_count/total\n",
        "true_avg"
      ],
      "execution_count": 0,
      "outputs": [
        {
          "output_type": "execute_result",
          "data": {
            "text/plain": [
              "0.10876605507244698"
            ]
          },
          "metadata": {
            "tags": []
          },
          "execution_count": 44
        }
      ]
    },
    {
      "cell_type": "code",
      "metadata": {
        "id": "JUhYiORffS-n",
        "colab_type": "code",
        "outputId": "7b74b327-58bf-417b-d3a5-f88d35fb3214",
        "colab": {
          "base_uri": "https://localhost:8080/",
          "height": 381
        }
      },
      "source": [
        "false_count=count_year.iloc[:1,0].sum()\n",
        "true_count=count_year.iloc[:1,1].sum()\n",
        "total=false_count+true_count\n",
        "true_avg=true_count/total\n",
        "mean_df = pd.DataFrame(columns=['year_range','Fraction of influential citations',\n",
        "                                'mean'])\n",
        "print('Fraction of influential citations for 1951:',true_avg)\n",
        "for i in range(1,len(count_year),5):\n",
        "  false_count=count_year.iloc[i:i+5,0].sum()\n",
        "  true_count=count_year.iloc[i:i+5,1].sum()\n",
        "  total=false_count+true_count\n",
        "  true_frac=true_count/total\n",
        "  true_mean=true_count/5\n",
        "  print('Fraction of influential citations for 5 years:',true_frac)\n",
        "  print('Mean of influential citations for 5 years:',true_mean)\n",
        "  #print(count_df['year'].unique()[i])\n",
        "  year_range = str(int(count_df['year'].unique()[i])) + \" - \"+str(int(count_df['year'].unique()[i+4]))\n",
        "  mean_df = mean_df.append({'year_range':year_range,'Fraction of influential citations':true_frac,'mean':true_mean},ignore_index=True)\n"
      ],
      "execution_count": 0,
      "outputs": [
        {
          "output_type": "stream",
          "text": [
            "Fraction of influential citations for 1951: 0.0\n",
            "Fraction of influential citations for 5 years: 0.05263157894736842\n",
            "Mean of influential citations for 5 years: 0.2\n",
            "Fraction of influential citations for 5 years: 0.0\n",
            "Mean of influential citations for 5 years: 0.0\n",
            "Fraction of influential citations for 5 years: 0.029411764705882353\n",
            "Mean of influential citations for 5 years: 0.2\n",
            "Fraction of influential citations for 5 years: 0.0380952380952381\n",
            "Mean of influential citations for 5 years: 2.4\n",
            "Fraction of influential citations for 5 years: 0.056194989844278946\n",
            "Mean of influential citations for 5 years: 16.6\n",
            "Fraction of influential citations for 5 years: 0.0710431654676259\n",
            "Mean of influential citations for 5 years: 79.0\n",
            "Fraction of influential citations for 5 years: 0.0934443161795978\n",
            "Mean of influential citations for 5 years: 307.6\n",
            "Fraction of influential citations for 5 years: 0.11090872293058085\n",
            "Mean of influential citations for 5 years: 876.8\n",
            "Fraction of influential citations for 5 years: 0.1150390080802452\n",
            "Mean of influential citations for 5 years: 1321.2\n",
            "Fraction of influential citations for 5 years: 0.11114759798334911\n",
            "Mean of influential citations for 5 years: 1150.8\n"
          ],
          "name": "stdout"
        }
      ]
    },
    {
      "cell_type": "code",
      "metadata": {
        "id": "fU5Qoh1CDiI2",
        "colab_type": "code",
        "outputId": "6b7900f8-904d-4abd-e0c3-4bc39d1d9102",
        "colab": {
          "base_uri": "https://localhost:8080/",
          "height": 355
        }
      },
      "source": [
        "mean_df"
      ],
      "execution_count": 0,
      "outputs": [
        {
          "output_type": "execute_result",
          "data": {
            "text/html": [
              "<div>\n",
              "<style scoped>\n",
              "    .dataframe tbody tr th:only-of-type {\n",
              "        vertical-align: middle;\n",
              "    }\n",
              "\n",
              "    .dataframe tbody tr th {\n",
              "        vertical-align: top;\n",
              "    }\n",
              "\n",
              "    .dataframe thead th {\n",
              "        text-align: right;\n",
              "    }\n",
              "</style>\n",
              "<table border=\"1\" class=\"dataframe\">\n",
              "  <thead>\n",
              "    <tr style=\"text-align: right;\">\n",
              "      <th></th>\n",
              "      <th>year_range</th>\n",
              "      <th>Fraction of influential citations</th>\n",
              "      <th>mean</th>\n",
              "    </tr>\n",
              "  </thead>\n",
              "  <tbody>\n",
              "    <tr>\n",
              "      <th>0</th>\n",
              "      <td>1971 - 1975</td>\n",
              "      <td>0.052632</td>\n",
              "      <td>0.2</td>\n",
              "    </tr>\n",
              "    <tr>\n",
              "      <th>1</th>\n",
              "      <td>1976 - 1980</td>\n",
              "      <td>0.000000</td>\n",
              "      <td>0.0</td>\n",
              "    </tr>\n",
              "    <tr>\n",
              "      <th>2</th>\n",
              "      <td>1981 - 1985</td>\n",
              "      <td>0.029412</td>\n",
              "      <td>0.2</td>\n",
              "    </tr>\n",
              "    <tr>\n",
              "      <th>3</th>\n",
              "      <td>1986 - 1990</td>\n",
              "      <td>0.038095</td>\n",
              "      <td>2.4</td>\n",
              "    </tr>\n",
              "    <tr>\n",
              "      <th>4</th>\n",
              "      <td>1991 - 1995</td>\n",
              "      <td>0.056195</td>\n",
              "      <td>16.6</td>\n",
              "    </tr>\n",
              "    <tr>\n",
              "      <th>5</th>\n",
              "      <td>1996 - 2000</td>\n",
              "      <td>0.071043</td>\n",
              "      <td>79.0</td>\n",
              "    </tr>\n",
              "    <tr>\n",
              "      <th>6</th>\n",
              "      <td>2001 - 2005</td>\n",
              "      <td>0.093444</td>\n",
              "      <td>307.6</td>\n",
              "    </tr>\n",
              "    <tr>\n",
              "      <th>7</th>\n",
              "      <td>2006 - 2010</td>\n",
              "      <td>0.110909</td>\n",
              "      <td>876.8</td>\n",
              "    </tr>\n",
              "    <tr>\n",
              "      <th>8</th>\n",
              "      <td>2011 - 2015</td>\n",
              "      <td>0.115039</td>\n",
              "      <td>1321.2</td>\n",
              "    </tr>\n",
              "    <tr>\n",
              "      <th>9</th>\n",
              "      <td>2016 - 2020</td>\n",
              "      <td>0.111148</td>\n",
              "      <td>1150.8</td>\n",
              "    </tr>\n",
              "  </tbody>\n",
              "</table>\n",
              "</div>"
            ],
            "text/plain": [
              "    year_range  Fraction of influential citations    mean\n",
              "0  1971 - 1975                           0.052632     0.2\n",
              "1  1976 - 1980                           0.000000     0.0\n",
              "2  1981 - 1985                           0.029412     0.2\n",
              "3  1986 - 1990                           0.038095     2.4\n",
              "4  1991 - 1995                           0.056195    16.6\n",
              "5  1996 - 2000                           0.071043    79.0\n",
              "6  2001 - 2005                           0.093444   307.6\n",
              "7  2006 - 2010                           0.110909   876.8\n",
              "8  2011 - 2015                           0.115039  1321.2\n",
              "9  2016 - 2020                           0.111148  1150.8"
            ]
          },
          "metadata": {
            "tags": []
          },
          "execution_count": 46
        }
      ]
    },
    {
      "cell_type": "code",
      "metadata": {
        "id": "YUlVxiFdGPnw",
        "colab_type": "code",
        "colab": {}
      },
      "source": [
        "mean_df.to_csv('citation mean.csv')"
      ],
      "execution_count": 0,
      "outputs": []
    },
    {
      "cell_type": "code",
      "metadata": {
        "id": "SN2ZvLOwgq0H",
        "colab_type": "code",
        "outputId": "dde995aa-3ef3-4aaa-e8de-49da1e1dc3a2",
        "colab": {
          "base_uri": "https://localhost:8080/",
          "height": 35
        }
      },
      "source": [
        "count_year.columns"
      ],
      "execution_count": 0,
      "outputs": [
        {
          "output_type": "execute_result",
          "data": {
            "text/plain": [
              "Index([False, True], dtype='object', name='isInfluential')"
            ]
          },
          "metadata": {
            "tags": []
          },
          "execution_count": 48
        }
      ]
    },
    {
      "cell_type": "code",
      "metadata": {
        "id": "Dt20jFnNkHBc",
        "colab_type": "code",
        "outputId": "cad00de3-b539-4ffe-e0ba-05a878b686f7",
        "colab": {
          "base_uri": "https://localhost:8080/",
          "height": 901
        }
      },
      "source": [
        "true_avg_lst = []\n",
        "for i in range(len(count_year)):\n",
        "  false_count=count_year.iloc[i:i+1,0].sum()\n",
        "  true_count=count_year.iloc[i:i+1,1].sum()\n",
        "  total=false_count+true_count\n",
        "  true_avg=true_count/total\n",
        "  true_avg_lst.append(true_avg)\n",
        "  print(count_df['year'].unique()[i], ':',true_avg)"
      ],
      "execution_count": 0,
      "outputs": [
        {
          "output_type": "stream",
          "text": [
            "1959.0 : 0.0\n",
            "1971.0 : 0.0\n",
            "1972.0 : 0.0\n",
            "1973.0 : 0.0\n",
            "1974.0 : 0.5\n",
            "1975.0 : 0.0\n",
            "1976.0 : 0.0\n",
            "1977.0 : 0.0\n",
            "1978.0 : 0.0\n",
            "1979.0 : 0.0\n",
            "1980.0 : 0.0\n",
            "1981.0 : 0.0\n",
            "1982.0 : 0.0\n",
            "1983.0 : 0.14285714285714285\n",
            "1984.0 : 0.0\n",
            "1985.0 : 0.0\n",
            "1986.0 : 0.0\n",
            "1987.0 : 0.021739130434782608\n",
            "1988.0 : 0.04411764705882353\n",
            "1989.0 : 0.026785714285714284\n",
            "1990.0 : 0.07575757575757576\n",
            "1991.0 : 0.031007751937984496\n",
            "1992.0 : 0.05217391304347826\n",
            "1993.0 : 0.026923076923076925\n",
            "1994.0 : 0.07948717948717948\n",
            "1995.0 : 0.06196581196581197\n",
            "1996.0 : 0.05912162162162162\n",
            "1997.0 : 0.06472919418758256\n",
            "1998.0 : 0.052772808586762074\n",
            "1999.0 : 0.07395993836671803\n",
            "2000.0 : 0.08690807799442897\n",
            "2001.0 : 0.0787201625190452\n",
            "2002.0 : 0.10143244289585752\n",
            "2003.0 : 0.09237343852728468\n",
            "2004.0 : 0.09436758893280632\n",
            "2005.0 : 0.09507992526468756\n",
            "2006.0 : 0.10452173913043478\n",
            "2007.0 : 0.1183965640658554\n",
            "2008.0 : 0.11155815654718361\n",
            "2009.0 : 0.10664655822471183\n",
            "2010.0 : 0.112913622690159\n",
            "2011.0 : 0.11703167774736019\n",
            "2012.0 : 0.11716008278592639\n",
            "2013.0 : 0.11539810592774465\n",
            "2014.0 : 0.11386497143316972\n",
            "2015.0 : 0.11230819458047665\n",
            "2016.0 : 0.10963978876014818\n",
            "2017.0 : 0.1065300100939514\n",
            "2018.0 : 0.1104507181773155\n",
            "2019.0 : 0.11439675566069618\n",
            "2020.0 : 0.13271193963604083\n"
          ],
          "name": "stdout"
        }
      ]
    },
    {
      "cell_type": "code",
      "metadata": {
        "id": "eN2x-nrvgc2Y",
        "colab_type": "code",
        "colab": {}
      },
      "source": [
        "count_year['Fraction of influential citations'] = true_avg_lst"
      ],
      "execution_count": 0,
      "outputs": []
    },
    {
      "cell_type": "code",
      "metadata": {
        "id": "0kkixD1RAtap",
        "colab_type": "code",
        "outputId": "8c989820-4c8c-4d1a-8863-de07f0c9ba87",
        "colab": {
          "base_uri": "https://localhost:8080/",
          "height": 1000
        }
      },
      "source": [
        "count_year"
      ],
      "execution_count": 0,
      "outputs": [
        {
          "output_type": "execute_result",
          "data": {
            "text/html": [
              "<div>\n",
              "<style scoped>\n",
              "    .dataframe tbody tr th:only-of-type {\n",
              "        vertical-align: middle;\n",
              "    }\n",
              "\n",
              "    .dataframe tbody tr th {\n",
              "        vertical-align: top;\n",
              "    }\n",
              "\n",
              "    .dataframe thead th {\n",
              "        text-align: right;\n",
              "    }\n",
              "</style>\n",
              "<table border=\"1\" class=\"dataframe\">\n",
              "  <thead>\n",
              "    <tr style=\"text-align: right;\">\n",
              "      <th>isInfluential</th>\n",
              "      <th>False</th>\n",
              "      <th>True</th>\n",
              "      <th>Fraction of influential citations</th>\n",
              "    </tr>\n",
              "    <tr>\n",
              "      <th>year</th>\n",
              "      <th></th>\n",
              "      <th></th>\n",
              "      <th></th>\n",
              "    </tr>\n",
              "  </thead>\n",
              "  <tbody>\n",
              "    <tr>\n",
              "      <th>1959.0</th>\n",
              "      <td>1.0</td>\n",
              "      <td>NaN</td>\n",
              "      <td>0.000000</td>\n",
              "    </tr>\n",
              "    <tr>\n",
              "      <th>1971.0</th>\n",
              "      <td>2.0</td>\n",
              "      <td>NaN</td>\n",
              "      <td>0.000000</td>\n",
              "    </tr>\n",
              "    <tr>\n",
              "      <th>1972.0</th>\n",
              "      <td>2.0</td>\n",
              "      <td>NaN</td>\n",
              "      <td>0.000000</td>\n",
              "    </tr>\n",
              "    <tr>\n",
              "      <th>1973.0</th>\n",
              "      <td>10.0</td>\n",
              "      <td>NaN</td>\n",
              "      <td>0.000000</td>\n",
              "    </tr>\n",
              "    <tr>\n",
              "      <th>1974.0</th>\n",
              "      <td>1.0</td>\n",
              "      <td>1.0</td>\n",
              "      <td>0.500000</td>\n",
              "    </tr>\n",
              "    <tr>\n",
              "      <th>1975.0</th>\n",
              "      <td>3.0</td>\n",
              "      <td>NaN</td>\n",
              "      <td>0.000000</td>\n",
              "    </tr>\n",
              "    <tr>\n",
              "      <th>1976.0</th>\n",
              "      <td>2.0</td>\n",
              "      <td>NaN</td>\n",
              "      <td>0.000000</td>\n",
              "    </tr>\n",
              "    <tr>\n",
              "      <th>1977.0</th>\n",
              "      <td>8.0</td>\n",
              "      <td>NaN</td>\n",
              "      <td>0.000000</td>\n",
              "    </tr>\n",
              "    <tr>\n",
              "      <th>1978.0</th>\n",
              "      <td>2.0</td>\n",
              "      <td>NaN</td>\n",
              "      <td>0.000000</td>\n",
              "    </tr>\n",
              "    <tr>\n",
              "      <th>1979.0</th>\n",
              "      <td>6.0</td>\n",
              "      <td>NaN</td>\n",
              "      <td>0.000000</td>\n",
              "    </tr>\n",
              "    <tr>\n",
              "      <th>1980.0</th>\n",
              "      <td>5.0</td>\n",
              "      <td>NaN</td>\n",
              "      <td>0.000000</td>\n",
              "    </tr>\n",
              "    <tr>\n",
              "      <th>1981.0</th>\n",
              "      <td>3.0</td>\n",
              "      <td>NaN</td>\n",
              "      <td>0.000000</td>\n",
              "    </tr>\n",
              "    <tr>\n",
              "      <th>1982.0</th>\n",
              "      <td>5.0</td>\n",
              "      <td>NaN</td>\n",
              "      <td>0.000000</td>\n",
              "    </tr>\n",
              "    <tr>\n",
              "      <th>1983.0</th>\n",
              "      <td>6.0</td>\n",
              "      <td>1.0</td>\n",
              "      <td>0.142857</td>\n",
              "    </tr>\n",
              "    <tr>\n",
              "      <th>1984.0</th>\n",
              "      <td>3.0</td>\n",
              "      <td>NaN</td>\n",
              "      <td>0.000000</td>\n",
              "    </tr>\n",
              "    <tr>\n",
              "      <th>1985.0</th>\n",
              "      <td>16.0</td>\n",
              "      <td>NaN</td>\n",
              "      <td>0.000000</td>\n",
              "    </tr>\n",
              "    <tr>\n",
              "      <th>1986.0</th>\n",
              "      <td>23.0</td>\n",
              "      <td>NaN</td>\n",
              "      <td>0.000000</td>\n",
              "    </tr>\n",
              "    <tr>\n",
              "      <th>1987.0</th>\n",
              "      <td>45.0</td>\n",
              "      <td>1.0</td>\n",
              "      <td>0.021739</td>\n",
              "    </tr>\n",
              "    <tr>\n",
              "      <th>1988.0</th>\n",
              "      <td>65.0</td>\n",
              "      <td>3.0</td>\n",
              "      <td>0.044118</td>\n",
              "    </tr>\n",
              "    <tr>\n",
              "      <th>1989.0</th>\n",
              "      <td>109.0</td>\n",
              "      <td>3.0</td>\n",
              "      <td>0.026786</td>\n",
              "    </tr>\n",
              "    <tr>\n",
              "      <th>1990.0</th>\n",
              "      <td>61.0</td>\n",
              "      <td>5.0</td>\n",
              "      <td>0.075758</td>\n",
              "    </tr>\n",
              "    <tr>\n",
              "      <th>1991.0</th>\n",
              "      <td>125.0</td>\n",
              "      <td>4.0</td>\n",
              "      <td>0.031008</td>\n",
              "    </tr>\n",
              "    <tr>\n",
              "      <th>1992.0</th>\n",
              "      <td>218.0</td>\n",
              "      <td>12.0</td>\n",
              "      <td>0.052174</td>\n",
              "    </tr>\n",
              "    <tr>\n",
              "      <th>1993.0</th>\n",
              "      <td>253.0</td>\n",
              "      <td>7.0</td>\n",
              "      <td>0.026923</td>\n",
              "    </tr>\n",
              "    <tr>\n",
              "      <th>1994.0</th>\n",
              "      <td>359.0</td>\n",
              "      <td>31.0</td>\n",
              "      <td>0.079487</td>\n",
              "    </tr>\n",
              "    <tr>\n",
              "      <th>1995.0</th>\n",
              "      <td>439.0</td>\n",
              "      <td>29.0</td>\n",
              "      <td>0.061966</td>\n",
              "    </tr>\n",
              "    <tr>\n",
              "      <th>1996.0</th>\n",
              "      <td>557.0</td>\n",
              "      <td>35.0</td>\n",
              "      <td>0.059122</td>\n",
              "    </tr>\n",
              "    <tr>\n",
              "      <th>1997.0</th>\n",
              "      <td>708.0</td>\n",
              "      <td>49.0</td>\n",
              "      <td>0.064729</td>\n",
              "    </tr>\n",
              "    <tr>\n",
              "      <th>1998.0</th>\n",
              "      <td>1059.0</td>\n",
              "      <td>59.0</td>\n",
              "      <td>0.052773</td>\n",
              "    </tr>\n",
              "    <tr>\n",
              "      <th>1999.0</th>\n",
              "      <td>1202.0</td>\n",
              "      <td>96.0</td>\n",
              "      <td>0.073960</td>\n",
              "    </tr>\n",
              "    <tr>\n",
              "      <th>2000.0</th>\n",
              "      <td>1639.0</td>\n",
              "      <td>156.0</td>\n",
              "      <td>0.086908</td>\n",
              "    </tr>\n",
              "    <tr>\n",
              "      <th>2001.0</th>\n",
              "      <td>1814.0</td>\n",
              "      <td>155.0</td>\n",
              "      <td>0.078720</td>\n",
              "    </tr>\n",
              "    <tr>\n",
              "      <th>2002.0</th>\n",
              "      <td>2321.0</td>\n",
              "      <td>262.0</td>\n",
              "      <td>0.101432</td>\n",
              "    </tr>\n",
              "    <tr>\n",
              "      <th>2003.0</th>\n",
              "      <td>2761.0</td>\n",
              "      <td>281.0</td>\n",
              "      <td>0.092373</td>\n",
              "    </tr>\n",
              "    <tr>\n",
              "      <th>2004.0</th>\n",
              "      <td>3666.0</td>\n",
              "      <td>382.0</td>\n",
              "      <td>0.094368</td>\n",
              "    </tr>\n",
              "    <tr>\n",
              "      <th>2005.0</th>\n",
              "      <td>4359.0</td>\n",
              "      <td>458.0</td>\n",
              "      <td>0.095080</td>\n",
              "    </tr>\n",
              "    <tr>\n",
              "      <th>2006.0</th>\n",
              "      <td>5149.0</td>\n",
              "      <td>601.0</td>\n",
              "      <td>0.104522</td>\n",
              "    </tr>\n",
              "    <tr>\n",
              "      <th>2007.0</th>\n",
              "      <td>6158.0</td>\n",
              "      <td>827.0</td>\n",
              "      <td>0.118397</td>\n",
              "    </tr>\n",
              "    <tr>\n",
              "      <th>2008.0</th>\n",
              "      <td>7287.0</td>\n",
              "      <td>915.0</td>\n",
              "      <td>0.111558</td>\n",
              "    </tr>\n",
              "    <tr>\n",
              "      <th>2009.0</th>\n",
              "      <td>8293.0</td>\n",
              "      <td>990.0</td>\n",
              "      <td>0.106647</td>\n",
              "    </tr>\n",
              "    <tr>\n",
              "      <th>2010.0</th>\n",
              "      <td>8257.0</td>\n",
              "      <td>1051.0</td>\n",
              "      <td>0.112914</td>\n",
              "    </tr>\n",
              "    <tr>\n",
              "      <th>2011.0</th>\n",
              "      <td>9031.0</td>\n",
              "      <td>1197.0</td>\n",
              "      <td>0.117032</td>\n",
              "    </tr>\n",
              "    <tr>\n",
              "      <th>2012.0</th>\n",
              "      <td>9811.0</td>\n",
              "      <td>1302.0</td>\n",
              "      <td>0.117160</td>\n",
              "    </tr>\n",
              "    <tr>\n",
              "      <th>2013.0</th>\n",
              "      <td>10088.0</td>\n",
              "      <td>1316.0</td>\n",
              "      <td>0.115398</td>\n",
              "    </tr>\n",
              "    <tr>\n",
              "      <th>2014.0</th>\n",
              "      <td>11012.0</td>\n",
              "      <td>1415.0</td>\n",
              "      <td>0.113865</td>\n",
              "    </tr>\n",
              "    <tr>\n",
              "      <th>2015.0</th>\n",
              "      <td>10876.0</td>\n",
              "      <td>1376.0</td>\n",
              "      <td>0.112308</td>\n",
              "    </tr>\n",
              "    <tr>\n",
              "      <th>2016.0</th>\n",
              "      <td>11296.0</td>\n",
              "      <td>1391.0</td>\n",
              "      <td>0.109640</td>\n",
              "    </tr>\n",
              "    <tr>\n",
              "      <th>2017.0</th>\n",
              "      <td>11507.0</td>\n",
              "      <td>1372.0</td>\n",
              "      <td>0.106530</td>\n",
              "    </tr>\n",
              "    <tr>\n",
              "      <th>2018.0</th>\n",
              "      <td>10776.0</td>\n",
              "      <td>1338.0</td>\n",
              "      <td>0.110451</td>\n",
              "    </tr>\n",
              "    <tr>\n",
              "      <th>2019.0</th>\n",
              "      <td>10482.0</td>\n",
              "      <td>1354.0</td>\n",
              "      <td>0.114397</td>\n",
              "    </tr>\n",
              "    <tr>\n",
              "      <th>2020.0</th>\n",
              "      <td>1954.0</td>\n",
              "      <td>299.0</td>\n",
              "      <td>0.132712</td>\n",
              "    </tr>\n",
              "  </tbody>\n",
              "</table>\n",
              "</div>"
            ],
            "text/plain": [
              "isInfluential    False    True  Fraction of influential citations\n",
              "year                                                             \n",
              "1959.0             1.0     NaN                           0.000000\n",
              "1971.0             2.0     NaN                           0.000000\n",
              "1972.0             2.0     NaN                           0.000000\n",
              "1973.0            10.0     NaN                           0.000000\n",
              "1974.0             1.0     1.0                           0.500000\n",
              "1975.0             3.0     NaN                           0.000000\n",
              "1976.0             2.0     NaN                           0.000000\n",
              "1977.0             8.0     NaN                           0.000000\n",
              "1978.0             2.0     NaN                           0.000000\n",
              "1979.0             6.0     NaN                           0.000000\n",
              "1980.0             5.0     NaN                           0.000000\n",
              "1981.0             3.0     NaN                           0.000000\n",
              "1982.0             5.0     NaN                           0.000000\n",
              "1983.0             6.0     1.0                           0.142857\n",
              "1984.0             3.0     NaN                           0.000000\n",
              "1985.0            16.0     NaN                           0.000000\n",
              "1986.0            23.0     NaN                           0.000000\n",
              "1987.0            45.0     1.0                           0.021739\n",
              "1988.0            65.0     3.0                           0.044118\n",
              "1989.0           109.0     3.0                           0.026786\n",
              "1990.0            61.0     5.0                           0.075758\n",
              "1991.0           125.0     4.0                           0.031008\n",
              "1992.0           218.0    12.0                           0.052174\n",
              "1993.0           253.0     7.0                           0.026923\n",
              "1994.0           359.0    31.0                           0.079487\n",
              "1995.0           439.0    29.0                           0.061966\n",
              "1996.0           557.0    35.0                           0.059122\n",
              "1997.0           708.0    49.0                           0.064729\n",
              "1998.0          1059.0    59.0                           0.052773\n",
              "1999.0          1202.0    96.0                           0.073960\n",
              "2000.0          1639.0   156.0                           0.086908\n",
              "2001.0          1814.0   155.0                           0.078720\n",
              "2002.0          2321.0   262.0                           0.101432\n",
              "2003.0          2761.0   281.0                           0.092373\n",
              "2004.0          3666.0   382.0                           0.094368\n",
              "2005.0          4359.0   458.0                           0.095080\n",
              "2006.0          5149.0   601.0                           0.104522\n",
              "2007.0          6158.0   827.0                           0.118397\n",
              "2008.0          7287.0   915.0                           0.111558\n",
              "2009.0          8293.0   990.0                           0.106647\n",
              "2010.0          8257.0  1051.0                           0.112914\n",
              "2011.0          9031.0  1197.0                           0.117032\n",
              "2012.0          9811.0  1302.0                           0.117160\n",
              "2013.0         10088.0  1316.0                           0.115398\n",
              "2014.0         11012.0  1415.0                           0.113865\n",
              "2015.0         10876.0  1376.0                           0.112308\n",
              "2016.0         11296.0  1391.0                           0.109640\n",
              "2017.0         11507.0  1372.0                           0.106530\n",
              "2018.0         10776.0  1338.0                           0.110451\n",
              "2019.0         10482.0  1354.0                           0.114397\n",
              "2020.0          1954.0   299.0                           0.132712"
            ]
          },
          "metadata": {
            "tags": []
          },
          "execution_count": 51
        }
      ]
    },
    {
      "cell_type": "code",
      "metadata": {
        "id": "5fk8x8iJAuur",
        "colab_type": "code",
        "colab": {}
      },
      "source": [
        "count_year.to_csv('count_analysis.csv')"
      ],
      "execution_count": 0,
      "outputs": []
    },
    {
      "cell_type": "markdown",
      "metadata": {
        "id": "ysBHxQr_fxvw",
        "colab_type": "text"
      },
      "source": [
        "## Line chart of no.of influential and non-influential citations"
      ]
    },
    {
      "cell_type": "code",
      "metadata": {
        "id": "r-OS9j-dBU98",
        "colab_type": "code",
        "outputId": "4c7df46b-c4a2-4518-c08d-dfb87e1559ed",
        "colab": {
          "base_uri": "https://localhost:8080/",
          "height": 356
        }
      },
      "source": [
        "import matplotlib.pyplot as plt\n",
        "\n",
        "# get columns to plot\n",
        "columns = count_year.columns.drop('Fraction of influential citations')\n",
        "# create x data\n",
        "x_data = count_df.year.unique()\n",
        "# create figure and axis\n",
        "fig, ax = plt.subplots(figsize=(9,5))\n",
        "#ax.figure()\n",
        "# plot each column\n",
        "for column in columns:\n",
        "    \n",
        "    ax.plot(x_data, count_year[column], label=column)\n",
        "# set title and legend\n",
        "ax.set_title('Influential citations count',fontsize = 16)\n",
        "ax.legend()\n",
        "plt.xlabel('Year',fontsize = 14)\n",
        "plt.ylabel('Count',fontsize = 14)\n",
        "plt.show()"
      ],
      "execution_count": 0,
      "outputs": [
        {
          "output_type": "display_data",
          "data": {
            "image/png": "[encoded data removed]",
            "text/plain": [
              "<Figure size 648x360 with 1 Axes>"
            ]
          },
          "metadata": {
            "tags": [],
            "needs_background": "light"
          }
        }
      ]
    },
    {
      "cell_type": "markdown",
      "metadata": {
        "id": "H2X0u2CBpjsa",
        "colab_type": "text"
      },
      "source": [
        "## Scatter chart for no.of influential and non-influential citations"
      ]
    },
    {
      "cell_type": "code",
      "metadata": {
        "id": "ffA1I7sloDej",
        "colab_type": "code",
        "outputId": "bc1069ba-74ec-429d-eef0-7cfb0d632f3b",
        "colab": {
          "base_uri": "https://localhost:8080/",
          "height": 356
        }
      },
      "source": [
        "import matplotlib.pyplot as plt\n",
        "# get columns to plot\n",
        "columns = count_year.columns.drop('Fraction of influential citations')\n",
        "# create x data\n",
        "x_data = count_df.year.unique()\n",
        "# create figure and axis\n",
        "fig, ax = plt.subplots(figsize=(15,5))\n",
        "# plot each column\n",
        "for column in columns:\n",
        "    \n",
        "    ax.scatter(x_data, count_year[column], label=column)\n",
        "# set title and legend\n",
        "ax.set_title('Influential citations count',fontsize = 16)\n",
        "ax.legend()\n",
        "plt.xlabel('Year',fontsize = 14)\n",
        "plt.ylabel('Count',fontsize = 14)\n",
        "plt.show()"
      ],
      "execution_count": 0,
      "outputs": [
        {
          "output_type": "display_data",
          "data": {
            "image/png": "[encoded data removed]",
            "text/plain": [
              "<Figure size 1080x360 with 1 Axes>"
            ]
          },
          "metadata": {
            "tags": [],
            "needs_background": "light"
          }
        }
      ]
    },
    {
      "cell_type": "markdown",
      "metadata": {
        "id": "LEFOqwInoLsn",
        "colab_type": "text"
      },
      "source": [
        "## Line chart of mean for every five years "
      ]
    },
    {
      "cell_type": "code",
      "metadata": {
        "id": "ojS2oeGYi-hP",
        "colab_type": "code",
        "outputId": "1a63e3cc-e936-4829-c8c6-0361d77692b5",
        "colab": {
          "base_uri": "https://localhost:8080/",
          "height": 399
        }
      },
      "source": [
        "plt.figure(figsize=(9,5))\n",
        "plt.plot(mean_df['year_range'],mean_df['mean'])\n",
        "plt.ylabel('Mean',fontsize = 14)\n",
        "plt.xlabel('Year-range',fontsize = 14)\n",
        "plt.xticks(rotation = 50)\n",
        "plt.title('Mean for every 5 years',fontsize = 16)\n",
        "plt.show()"
      ],
      "execution_count": 0,
      "outputs": [
        {
          "output_type": "display_data",
          "data": {
            "image/png": "[encoded data removed]",
            "text/plain": [
              "<Figure size 648x360 with 1 Axes>"
            ]
          },
          "metadata": {
            "tags": [],
            "needs_background": "light"
          }
        }
      ]
    },
    {
      "cell_type": "markdown",
      "metadata": {
        "id": "iMy5kf6IqEgQ",
        "colab_type": "text"
      },
      "source": [
        "## Scatter Chart of mean for every five years "
      ]
    },
    {
      "cell_type": "code",
      "metadata": {
        "id": "hNl8FKQbn7M_",
        "colab_type": "code",
        "outputId": "a5a52284-3643-4df6-d0c7-72bb5d4e4c13",
        "colab": {
          "base_uri": "https://localhost:8080/",
          "height": 399
        }
      },
      "source": [
        "plt.figure(figsize=(9,5))\n",
        "plt.scatter(mean_df['year_range'],mean_df['mean'])\n",
        "plt.ylabel('Mean',fontsize = 14)\n",
        "plt.xlabel('Year-range',fontsize = 14)\n",
        "plt.xticks(rotation = 50)\n",
        "plt.title('Mean for every 5 years',fontsize = 16)\n",
        "plt.show()"
      ],
      "execution_count": 0,
      "outputs": [
        {
          "output_type": "display_data",
          "data": {
            "image/png": "[encoded data removed]",
            "text/plain": [
              "<Figure size 648x360 with 1 Axes>"
            ]
          },
          "metadata": {
            "tags": [],
            "needs_background": "light"
          }
        }
      ]
    },
    {
      "cell_type": "markdown",
      "metadata": {
        "id": "ONoslcbQqPc9",
        "colab_type": "text"
      },
      "source": [
        "## Line Chart for Fraction of influential citations for every 5 years"
      ]
    },
    {
      "cell_type": "code",
      "metadata": {
        "id": "RAh_yC4pjEof",
        "colab_type": "code",
        "outputId": "3396e01f-e5ed-423d-f8fe-9fd90ada5d02",
        "colab": {
          "base_uri": "https://localhost:8080/",
          "height": 399
        }
      },
      "source": [
        "plt.figure(figsize=(9,5))\n",
        "plt.plot(mean_df['year_range'],mean_df['Fraction of influential citations'])\n",
        "plt.ylabel('Fraction of influential citations',fontsize = 12)\n",
        "plt.xlabel('Year-range',fontsize = 14)\n",
        "plt.xticks(rotation = 50)\n",
        "plt.title('Fraction of influential citations for every 5 years',fontsize = 16)\n",
        "\n",
        "plt.show()"
      ],
      "execution_count": 0,
      "outputs": [
        {
          "output_type": "display_data",
          "data": {
            "image/png": "[encoded data removed]",
            "text/plain": [
              "<Figure size 648x360 with 1 Axes>"
            ]
          },
          "metadata": {
            "tags": [],
            "needs_background": "light"
          }
        }
      ]
    },
    {
      "cell_type": "markdown",
      "metadata": {
        "id": "jWi2LiO-qXn5",
        "colab_type": "text"
      },
      "source": [
        "## Scatter Chart for Fraction of influential citations for every 5 years"
      ]
    },
    {
      "cell_type": "code",
      "metadata": {
        "id": "riefu5TQn0e4",
        "colab_type": "code",
        "outputId": "9b53f493-948c-4fd3-b012-b8bdb1af4d27",
        "colab": {
          "base_uri": "https://localhost:8080/",
          "height": 399
        }
      },
      "source": [
        "plt.figure(figsize=(9,5))\n",
        "plt.scatter(mean_df['year_range'],mean_df['Fraction of influential citations'])\n",
        "plt.ylabel('Fraction of influential citations',fontsize = 12)\n",
        "plt.xlabel('Year-range',fontsize = 14)\n",
        "plt.xticks(rotation = 50)\n",
        "plt.title('Fraction of influential citations for every 5 years',fontsize = 16)\n",
        "\n",
        "plt.show()"
      ],
      "execution_count": 0,
      "outputs": [
        {
          "output_type": "display_data",
          "data": {
            "image/png": "[encoded data removed]",
            "text/plain": [
              "<Figure size 648x360 with 1 Axes>"
            ]
          },
          "metadata": {
            "tags": [],
            "needs_background": "light"
          }
        }
      ]
    },
    {
      "cell_type": "markdown",
      "metadata": {
        "id": "E2JIs2EBqeH7",
        "colab_type": "text"
      },
      "source": [
        "## Line Chart for Fraction of influential citations for every year"
      ]
    },
    {
      "cell_type": "code",
      "metadata": {
        "id": "OVoJZFo0j-Mu",
        "colab_type": "code",
        "outputId": "46926d70-d0da-43f2-c5a6-00cd86b2fa49",
        "colab": {
          "base_uri": "https://localhost:8080/",
          "height": 356
        }
      },
      "source": [
        "plt.figure(figsize=(9,5))\n",
        "plt.plot(count_df.year.unique(),count_year['Fraction of influential citations'])\n",
        "plt.ylabel('Fraction of influential citations',fontsize = 12)\n",
        "plt.xlabel('Year',fontsize = 14)\n",
        "plt.xticks(fontsize = 11)\n",
        "plt.title('Fraction of influential citations for every year',fontsize = 16)\n",
        "\n",
        "plt.show()"
      ],
      "execution_count": 0,
      "outputs": [
        {
          "output_type": "display_data",
          "data": {
            "image/png": "[encoded data removed]",
            "text/plain": [
              "<Figure size 648x360 with 1 Axes>"
            ]
          },
          "metadata": {
            "tags": [],
            "needs_background": "light"
          }
        }
      ]
    },
    {
      "cell_type": "markdown",
      "metadata": {
        "id": "WhNZGVoaqlOc",
        "colab_type": "text"
      },
      "source": [
        "## Scatter Chart for Fraction of influential citations for every years"
      ]
    },
    {
      "cell_type": "code",
      "metadata": {
        "id": "OlMGJ-J0li88",
        "colab_type": "code",
        "outputId": "82c37ca3-d2a5-4ed1-b87b-5c9d72466642",
        "colab": {
          "base_uri": "https://localhost:8080/",
          "height": 356
        }
      },
      "source": [
        "plt.figure(figsize=(9,5))\n",
        "plt.scatter(count_df.year.unique(),count_year['Fraction of influential citations'])\n",
        "plt.ylabel('Fraction of influential citations',fontsize = 12)\n",
        "plt.xlabel('Year',fontsize = 14)\n",
        "plt.xticks(fontsize = 11)\n",
        "plt.title('Fraction of influential citations for every year',fontsize = 16)\n",
        "\n",
        "plt.show()"
      ],
      "execution_count": 0,
      "outputs": [
        {
          "output_type": "display_data",
          "data": {
            "image/png": "[encoded data removed]",
            "text/plain": [
              "<Figure size 648x360 with 1 Axes>"
            ]
          },
          "metadata": {
            "tags": [],
            "needs_background": "light"
          }
        }
      ]
    },
    {
      "cell_type": "code",
      "metadata": {
        "id": "J73pi-kRnu_w",
        "colab_type": "code",
        "colab": {}
      },
      "source": [
        ""
      ],
      "execution_count": 0,
      "outputs": []
    }
  ]
}